{
  "nbformat": 4,
  "nbformat_minor": 0,
  "metadata": {
    "colab": {
      "provenance": [],
      "include_colab_link": true
    },
    "kernelspec": {
      "name": "python3",
      "display_name": "Python 3"
    },
    "language_info": {
      "name": "python"
    }
  },
  "cells": [
    {
      "cell_type": "markdown",
      "metadata": {
        "id": "view-in-github",
        "colab_type": "text"
      },
      "source": [
        "<a href=\"https://colab.research.google.com/github/TakeakiSudo/Iryo_adavance_2025/blob/main/For%E6%96%8720240423.ipynb\" target=\"_parent\"><img src=\"https://colab.research.google.com/assets/colab-badge.svg\" alt=\"Open In Colab\"/></a>"
      ]
    },
    {
      "cell_type": "markdown",
      "source": [
        "## For文の基本   "
      ],
      "metadata": {
        "id": "BNiG5fSvyaVI"
      }
    },
    {
      "cell_type": "markdown",
      "source": [
        "\n",
        "For文は以下の形式で書かれます：\n",
        "```\n",
        "for 変数 in イテラブル:\n",
        "    # 繰り返したい処理\n",
        "```\n",
        "\n",
        "*   変数は、イテラブルから一つずつ値を受け取るためのものです。\n",
        "*   イテラブルは、リストやタプル、文字列など、繰り返しアクセス可能なデータ構造です。\n",
        "\n"
      ],
      "metadata": {
        "id": "1YJYfVFixxMw"
      }
    },
    {
      "cell_type": "markdown",
      "source": [
        "**リストの要素を出力**\n",
        "\n",
        "リスト内の各要素を出力する簡単な例を見てみましょう。"
      ],
      "metadata": {
        "id": "SmiS6cICyssF"
      }
    },
    {
      "cell_type": "code",
      "execution_count": null,
      "metadata": {
        "id": "Xa2Q9pquxuRk",
        "colab": {
          "base_uri": "https://localhost:8080/"
        },
        "outputId": "0850d1b2-622b-4f78-e008-0bbd23c2b1da"
      },
      "outputs": [
        {
          "output_type": "stream",
          "name": "stdout",
          "text": [
            "1\n",
            "2\n",
            "3\n",
            "4\n",
            "5\n"
          ]
        }
      ],
      "source": [
        "# リストの作成\n",
        "numbers = [1, 2, 3, 4, 5]\n",
        "\n",
        "# 各要素を順番に出力\n",
        "for number in numbers:\n",
        "    print(number)"
      ]
    },
    {
      "cell_type": "markdown",
      "source": [
        "このコードでは、リストnumbersの各要素がnumber変数に代入され、print()関数で出力されます。"
      ],
      "metadata": {
        "id": "oRmiqpMfy0W_"
      }
    },
    {
      "cell_type": "markdown",
      "source": [
        "**文字列の文字を一つずつ出力**\n",
        "\n",
        "文字列内の各文字を一つずつ出力する例です。"
      ],
      "metadata": {
        "id": "LHzWlEHay3gP"
      }
    },
    {
      "cell_type": "code",
      "source": [
        "# 文字列の定義\n",
        "message = \"Hello, world!\"\n",
        "\n",
        "# 各文字を順番に出力\n",
        "for char in message:\n",
        "    print(char)"
      ],
      "metadata": {
        "id": "9FPGSNHGx4qy",
        "colab": {
          "base_uri": "https://localhost:8080/"
        },
        "outputId": "f8829dcf-5010-48f1-d1cf-1d21c00fbb0f"
      },
      "execution_count": null,
      "outputs": [
        {
          "output_type": "stream",
          "name": "stdout",
          "text": [
            "H\n",
            "e\n",
            "l\n",
            "l\n",
            "o\n",
            ",\n",
            " \n",
            "w\n",
            "o\n",
            "r\n",
            "l\n",
            "d\n",
            "!\n"
          ]
        }
      ]
    },
    {
      "cell_type": "markdown",
      "source": [
        "ここでは、文字列messageから一文字ずつ取り出して、print()で出力しています。"
      ],
      "metadata": {
        "id": "JXT-DA3MzPc_"
      }
    },
    {
      "cell_type": "markdown",
      "source": [
        "**range()関数**"
      ],
      "metadata": {
        "id": "0Zy4whjaqDeT"
      }
    },
    {
      "cell_type": "markdown",
      "source": [
        "range()関数は以下の形式で使用されます\n",
        "\n",
        "```\n",
        "range(start, stop, step)\n",
        "```\n",
        "\n",
        "\n",
        "*   startはシーケンスの開始値を指定します（この値を含む）。デフォルトは0です。\n",
        "*   stopはシーケンスの終了値を指定します（この値を含まない）。\n",
        "*   stepはシーケンスの各要素間の差を指定します。デフォルトは1です。\n",
        "\n",
        "\n",
        "\n",
        "\n"
      ],
      "metadata": {
        "id": "5kIAwwRBqUsD"
      }
    },
    {
      "cell_type": "markdown",
      "source": [
        "**単純なrangeの使用**"
      ],
      "metadata": {
        "id": "417c2zxAqIBh"
      }
    },
    {
      "cell_type": "markdown",
      "source": [
        "0から9までの数を出力する基本的な例です。"
      ],
      "metadata": {
        "id": "9Fg6Mkmtqryd"
      }
    },
    {
      "cell_type": "code",
      "source": [
        "# 0から9までの数を出力\n",
        "for i in range(10):\n",
        "    print(i)"
      ],
      "metadata": {
        "colab": {
          "base_uri": "https://localhost:8080/"
        },
        "id": "krVUgWvU6Wr3",
        "outputId": "c54e2de1-e540-4c45-8b48-b3e8acec62ac"
      },
      "execution_count": null,
      "outputs": [
        {
          "output_type": "stream",
          "name": "stdout",
          "text": [
            "0\n",
            "1\n",
            "2\n",
            "3\n",
            "4\n",
            "5\n",
            "6\n",
            "7\n",
            "8\n",
            "9\n"
          ]
        }
      ]
    },
    {
      "cell_type": "markdown",
      "source": [
        "5から9までの数を出力する基本的な例です。"
      ],
      "metadata": {
        "id": "TdjI4vVT6bc2"
      }
    },
    {
      "cell_type": "code",
      "source": [
        "# 5から9までの数を出力\n",
        "for i in range(5, 10):\n",
        "    print(i)"
      ],
      "metadata": {
        "id": "Ujz8LpSequC1",
        "colab": {
          "base_uri": "https://localhost:8080/"
        },
        "outputId": "15823106-b5f2-4618-9d30-f27f50bcae70"
      },
      "execution_count": null,
      "outputs": [
        {
          "output_type": "stream",
          "name": "stdout",
          "text": [
            "5\n",
            "6\n",
            "7\n",
            "8\n",
            "9\n"
          ]
        }
      ]
    },
    {
      "cell_type": "markdown",
      "source": [
        "ここでは、range()が5から始まり、10に達する前に止まるため、5から9までが出力されます。"
      ],
      "metadata": {
        "id": "YF6mbyK0qx2k"
      }
    },
    {
      "cell_type": "markdown",
      "source": [
        "**stepの使用**"
      ],
      "metadata": {
        "id": "D10GKAlKq17N"
      }
    },
    {
      "cell_type": "markdown",
      "source": [
        "0から9までの数を出力するが、2つ飛ばしで出力する例です。"
      ],
      "metadata": {
        "id": "3kWtizimq4sz"
      }
    },
    {
      "cell_type": "code",
      "source": [
        "# 0から9までの数を2つ飛ばしで出力\n",
        "for i in range(0, 10, 2):\n",
        "    print(i)"
      ],
      "metadata": {
        "id": "sS1PzhYqq4PU",
        "colab": {
          "base_uri": "https://localhost:8080/"
        },
        "outputId": "3186e6db-dd2a-4b62-d545-13a140277363"
      },
      "execution_count": null,
      "outputs": [
        {
          "output_type": "stream",
          "name": "stdout",
          "text": [
            "0\n",
            "2\n",
            "4\n",
            "6\n",
            "8\n"
          ]
        }
      ]
    },
    {
      "cell_type": "markdown",
      "source": [
        "このコードは、0から始まり10未満の範囲で、数値を2ずつ増やしながら出力します。そのため、0, 2, 4, 6, 8が出力されます。"
      ],
      "metadata": {
        "id": "lmXZimj7q8o-"
      }
    },
    {
      "cell_type": "markdown",
      "source": [
        "**逆順に数を出力**"
      ],
      "metadata": {
        "id": "ro_O6ANcrBdo"
      }
    },
    {
      "cell_type": "markdown",
      "source": [
        "10から1までの数を逆順で出力する例です。"
      ],
      "metadata": {
        "id": "ISxrIB05rEbY"
      }
    },
    {
      "cell_type": "code",
      "source": [
        "# 10から1まで逆順に出力\n",
        "for i in range(10, 0, -1):\n",
        "    print(i)"
      ],
      "metadata": {
        "id": "qvQtbVZVrGvb",
        "colab": {
          "base_uri": "https://localhost:8080/"
        },
        "outputId": "727644bd-c8e4-4821-a60d-8324ec9d0243"
      },
      "execution_count": null,
      "outputs": [
        {
          "output_type": "stream",
          "name": "stdout",
          "text": [
            "10\n",
            "9\n",
            "8\n",
            "7\n",
            "6\n",
            "5\n",
            "4\n",
            "3\n",
            "2\n",
            "1\n"
          ]
        }
      ]
    },
    {
      "cell_type": "markdown",
      "source": [
        "この例では、10から始まり、1より大きい間、iの値が1ずつ減少していきます。そのため、10から1までが出力されます。"
      ],
      "metadata": {
        "id": "LEnVEc6urIcz"
      }
    },
    {
      "cell_type": "markdown",
      "source": [
        "**ループ内での条件分岐**\n",
        "\n",
        "ループ内で条件分岐を使って、特定の条件を満たす要素だけに何か処理を行う例です。"
      ],
      "metadata": {
        "id": "Vma-0c9EzUWG"
      }
    },
    {
      "cell_type": "code",
      "source": [
        "# 数字のリスト\n",
        "numbers = [1, 2, 3, 4, 5]\n",
        "\n",
        "# 各数字が偶数の場合にのみ出力\n",
        "for number in numbers:\n",
        "    if number % 2 == 0:\n",
        "        print(f\"{number} is even\")"
      ],
      "metadata": {
        "id": "Z-LaKoaOx4xW",
        "colab": {
          "base_uri": "https://localhost:8080/"
        },
        "outputId": "052f2bd4-7c2e-4261-a550-5e2344746ec9"
      },
      "execution_count": null,
      "outputs": [
        {
          "output_type": "stream",
          "name": "stdout",
          "text": [
            "2 is even\n",
            "4 is even\n"
          ]
        }
      ]
    },
    {
      "cell_type": "markdown",
      "source": [
        "このコードでは、numbersリストの各要素が偶数かどうかを判定し、偶数の場合にのみ出力しています。"
      ],
      "metadata": {
        "id": "04Pl6FpozaPk"
      }
    },
    {
      "cell_type": "markdown",
      "source": [
        "## 応用例"
      ],
      "metadata": {
        "id": "KdVK5nIaziCU"
      }
    },
    {
      "cell_type": "markdown",
      "source": [
        "**For文を使ったリストの内包表記**.  \n",
        "リストの内包表記は、新しいリストを生成する際にfor文を短く書く方法です。"
      ],
      "metadata": {
        "id": "DnFPWCY1zl4P"
      }
    },
    {
      "cell_type": "markdown",
      "source": [
        "全ての要素に何かしらの操作を行い新しいリストを作成"
      ],
      "metadata": {
        "id": "TMwqgmBSzsOK"
      }
    },
    {
      "cell_type": "code",
      "source": [
        "# 元のリスト\n",
        "numbers = [1, 2, 3, 4, 5]\n",
        "\n",
        "# 各要素を2倍にして新しいリストを作成\n",
        "doubled_numbers = [number * 2 for number in numbers]\n",
        "\n",
        "print(doubled_numbers)"
      ],
      "metadata": {
        "id": "gIlefWhiy86G",
        "colab": {
          "base_uri": "https://localhost:8080/"
        },
        "outputId": "81d96da7-e9e5-4455-fe82-5deab39191c6"
      },
      "execution_count": null,
      "outputs": [
        {
          "output_type": "stream",
          "name": "stdout",
          "text": [
            "[2, 4, 6, 8, 10]\n"
          ]
        }
      ]
    },
    {
      "cell_type": "markdown",
      "source": [
        "このコードでは、numbersリストの各要素を2倍にし、それを新しいリストdoubled_numbersに格納しています。"
      ],
      "metadata": {
        "id": "86774I3rPKJS"
      }
    },
    {
      "cell_type": "markdown",
      "source": [
        "**複数のリストを同時にループ**.  \n",
        "Pythonのzip()関数を使用すると、複数のリストを同時にループすることができます。これにより、リスト同士の要素を簡単に組み合わせたり、比較したりすることができます。"
      ],
      "metadata": {
        "id": "IE7fhlByPN98"
      }
    },
    {
      "cell_type": "markdown",
      "source": [
        "二つのリストの要素を組み合わせて出力"
      ],
      "metadata": {
        "id": "-Xywn8YZPUNS"
      }
    },
    {
      "cell_type": "code",
      "source": [
        "# 名前と年齢のリスト\n",
        "names = [\"Alice\", \"Bob\", \"Charlie\"]\n",
        "ages = [25, 30, 35]\n",
        "\n",
        "# 名前と年齢を組み合わせて出力\n",
        "for name, age in zip(names, ages):\n",
        "    print(f\"{name} is {age} years old\")"
      ],
      "metadata": {
        "id": "CNLzB7wzy838",
        "colab": {
          "base_uri": "https://localhost:8080/"
        },
        "outputId": "b7df8ca5-386a-431b-d4ce-925cbe5d6651"
      },
      "execution_count": null,
      "outputs": [
        {
          "output_type": "stream",
          "name": "stdout",
          "text": [
            "Alice is 25 years old\n",
            "Bob is 30 years old\n",
            "Charlie is 35 years old\n"
          ]
        }
      ]
    },
    {
      "cell_type": "markdown",
      "source": [
        "この例では、namesとagesの各要素を一つずつ取り出し、組み合わせて出力しています。"
      ],
      "metadata": {
        "id": "CTaX1rrCPZ8M"
      }
    },
    {
      "cell_type": "markdown",
      "source": [
        "**辞書に対するループ**.  \n",
        "Pythonの辞書をfor文でループする場合、キー、値、またはその両方を取り出すことができます。"
      ],
      "metadata": {
        "id": "ySu7ngoDPgCz"
      }
    },
    {
      "cell_type": "markdown",
      "source": [
        "辞書のキーと値を出力"
      ],
      "metadata": {
        "id": "_DDEwkKcPich"
      }
    },
    {
      "cell_type": "code",
      "source": [
        "# 辞書の作成\n",
        "info = {'name': 'Alice', 'age': 25}\n",
        "\n",
        "# キーと値を出力\n",
        "for key, value in info.items():\n",
        "    print(f\"{key}: {value}\")"
      ],
      "metadata": {
        "id": "LRQA9FPQy81u",
        "colab": {
          "base_uri": "https://localhost:8080/"
        },
        "outputId": "c5e730ba-68d4-47ef-aab3-ee64f4ee54f3"
      },
      "execution_count": null,
      "outputs": [
        {
          "output_type": "stream",
          "name": "stdout",
          "text": [
            "name: Alice\n",
            "age: 25\n"
          ]
        }
      ]
    },
    {
      "cell_type": "markdown",
      "source": [
        "このコードでは、辞書infoの各要素（キーと値のペア）にアクセスし、それぞれを出力しています。"
      ],
      "metadata": {
        "id": "0h0yIVGXPu8y"
      }
    },
    {
      "cell_type": "code",
      "source": [],
      "metadata": {
        "id": "aQEGw0lgy8zk"
      },
      "execution_count": null,
      "outputs": []
    },
    {
      "cell_type": "code",
      "source": [],
      "metadata": {
        "id": "H9CqbxFcx4vI"
      },
      "execution_count": null,
      "outputs": []
    },
    {
      "cell_type": "code",
      "source": [],
      "metadata": {
        "id": "xJOCGa7Mx4tR"
      },
      "execution_count": null,
      "outputs": []
    }
  ]
}