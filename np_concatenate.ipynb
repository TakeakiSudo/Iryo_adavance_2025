{
  "cells": [
    {
      "cell_type": "markdown",
      "metadata": {
        "id": "view-in-github",
        "colab_type": "text"
      },
      "source": [
        "<a href=\"https://colab.research.google.com/github/TakeakiSudo/Iryo_adavance_2025/blob/main/np_concatenate.ipynb\" target=\"_parent\"><img src=\"https://colab.research.google.com/assets/colab-badge.svg\" alt=\"Open In Colab\"/></a>"
      ]
    },
    {
      "cell_type": "markdown",
      "metadata": {
        "id": "OCdhsZwhQMM4"
      },
      "source": [
        "# 🔗 np.concatenate の使い方"
      ]
    },
    {
      "cell_type": "markdown",
      "metadata": {
        "id": "9ZtE_UUaQMM6"
      },
      "source": [
        "## 🧠 概要\n",
        "`np.concatenate` は複数のNumPy配列を連結する関数です。\n",
        "- 同じshapeの配列を指定軸に沿って結合できます\n",
        "- デフォルトの軸は axis=0（縦方向）\n",
        "\n",
        "例： `np.concatenate((array1, array2), axis=0)`"
      ]
    },
    {
      "cell_type": "code",
      "execution_count": null,
      "metadata": {
        "id": "Zm4QedLTQMM7"
      },
      "outputs": [],
      "source": [
        "# 一次元配列の結合\n",
        "a = np.array([1, 2, 3])\n",
        "b = np.array([4, 5, 6])\n",
        "print(np.concatenate((a, b)))"
      ]
    },
    {
      "cell_type": "code",
      "execution_count": null,
      "metadata": {
        "id": "XZ-iCzkRQMM8"
      },
      "outputs": [],
      "source": [
        "# 二次元配列の縦方向結合\n",
        "a = np.array([[1, 2], [3, 4]])\n",
        "b = np.array([[5, 6]])\n",
        "print(np.concatenate((a, b), axis=0))"
      ]
    },
    {
      "cell_type": "code",
      "execution_count": null,
      "metadata": {
        "id": "L6bxc6vnQMM8"
      },
      "outputs": [],
      "source": [
        "# 二次元配列の横方向結合\n",
        "a = np.array([[1, 2], [3, 4]])\n",
        "b = np.array([[5, 6], [7, 8]])\n",
        "print(np.concatenate((a, b), axis=1))"
      ]
    },
    {
      "cell_type": "markdown",
      "metadata": {
        "id": "mYr7SuOnQMM8"
      },
      "source": [
        "## 🚀 応用例"
      ]
    },
    {
      "cell_type": "code",
      "execution_count": null,
      "metadata": {
        "id": "BplncMtVQMM8"
      },
      "outputs": [],
      "source": [
        "# 複数配列を一括結合\n",
        "arrays = [np.array([1, 2]), np.array([3, 4]), np.array([5, 6])]\n",
        "print(np.concatenate(arrays))"
      ]
    },
    {
      "cell_type": "code",
      "execution_count": null,
      "metadata": {
        "id": "VRH-FPSQQMM8"
      },
      "outputs": [],
      "source": [
        "# 空配列との連結\n",
        "a = np.array([1, 2])\n",
        "b = np.array([])\n",
        "print(np.concatenate((a, b)))"
      ]
    },
    {
      "cell_type": "markdown",
      "metadata": {
        "id": "naPHMCxJQMM9"
      },
      "source": [
        "## 📝 np.concatenate 演習問題"
      ]
    },
    {
      "cell_type": "markdown",
      "metadata": {
        "id": "Z3y8QPWRQMM9"
      },
      "source": [
        "### 問題1: `[10, 20]` と `[30, 40]` を結合せよ"
      ]
    },
    {
      "cell_type": "code",
      "execution_count": null,
      "metadata": {
        "id": "RVPiMCUDQMM9"
      },
      "outputs": [],
      "source": [
        "a = np.array([10, 20])\n",
        "b = np.array([30, 40])\n",
        "np.concatenate((a, b))"
      ]
    },
    {
      "cell_type": "markdown",
      "metadata": {
        "id": "MLyd1xT4QMM9"
      },
      "source": [
        "**解説:** axis=0（一次元）として結合されます"
      ]
    },
    {
      "cell_type": "markdown",
      "metadata": {
        "id": "5WSV9URmQMM9"
      },
      "source": [
        "### 問題2: 以下の2次元配列を縦に連結せよ"
      ]
    },
    {
      "cell_type": "code",
      "execution_count": null,
      "metadata": {
        "id": "V6MdEELAQMM9"
      },
      "outputs": [],
      "source": [
        "a = np.array([[1, 2], [3, 4]])\n",
        "b = np.array([[5, 6]])\n",
        "np.concatenate((a, b), axis=0)"
      ]
    },
    {
      "cell_type": "markdown",
      "metadata": {
        "id": "-PHWKVVIQMM-"
      },
      "source": [
        "**解説:** axis=0指定で行が追加されます"
      ]
    },
    {
      "cell_type": "markdown",
      "metadata": {
        "id": "PdP7b6O5QMM-"
      },
      "source": [
        "### 問題3: 横方向に配列を連結せよ"
      ]
    },
    {
      "cell_type": "code",
      "execution_count": null,
      "metadata": {
        "id": "0bW4iPToQMM-"
      },
      "outputs": [],
      "source": [
        "a = np.array([[1, 2]])\n",
        "b = np.array([[3, 4]])\n",
        "np.concatenate((a, b), axis=1)"
      ]
    },
    {
      "cell_type": "markdown",
      "metadata": {
        "id": "CUz2HNm6QMM-"
      },
      "source": [
        "**解説:** axis=1指定で列が追加されます"
      ]
    },
    {
      "cell_type": "markdown",
      "metadata": {
        "id": "m3IfIrRtQMM-"
      },
      "source": [
        "### 問題4: 異なる列数で連結すると？"
      ]
    },
    {
      "cell_type": "code",
      "execution_count": null,
      "metadata": {
        "id": "LHeOcuqrQMM-"
      },
      "outputs": [],
      "source": [
        "a = np.array([[1, 2]])\n",
        "b = np.array([[3, 4, 5]])\n",
        "# np.concatenate((a, b), axis=0)  # 実行すると ValueError"
      ]
    },
    {
      "cell_type": "markdown",
      "metadata": {
        "id": "JQsKuv77QMM-"
      },
      "source": [
        "**解説:** 列数が一致しないと結合できずエラーが出ます"
      ]
    },
    {
      "cell_type": "markdown",
      "metadata": {
        "id": "1xQ-A6qPQMM-"
      },
      "source": [
        "### 問題5: `[1], [2], [3]` を結合せよ"
      ]
    },
    {
      "cell_type": "code",
      "execution_count": null,
      "metadata": {
        "id": "wBXYhbVLQMM-"
      },
      "outputs": [],
      "source": [
        "np.concatenate([np.array([1]), np.array([2]), np.array([3])])"
      ]
    },
    {
      "cell_type": "markdown",
      "metadata": {
        "id": "Z-s8tMQ2QMM_"
      },
      "source": [
        "**解説:** 配列をリストとして渡すことで複数結合が可能"
      ]
    }
  ],
  "metadata": {
    "kernelspec": {
      "display_name": "Python 3",
      "language": "python",
      "name": "python3"
    },
    "language_info": {
      "name": "python",
      "version": "3.8"
    },
    "colab": {
      "provenance": [],
      "include_colab_link": true
    }
  },
  "nbformat": 4,
  "nbformat_minor": 0
}