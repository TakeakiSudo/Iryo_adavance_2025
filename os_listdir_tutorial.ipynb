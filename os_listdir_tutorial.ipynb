{
  "cells": [
    {
      "cell_type": "markdown",
      "metadata": {
        "id": "view-in-github",
        "colab_type": "text"
      },
      "source": [
        "<a href=\"https://colab.research.google.com/github/TakeakiSudo/Iryo_adavance_2025/blob/main/os_listdir_tutorial.ipynb\" target=\"_parent\"><img src=\"https://colab.research.google.com/assets/colab-badge.svg\" alt=\"Open In Colab\"/></a>"
      ]
    },
    {
      "cell_type": "markdown",
      "metadata": {
        "id": "RL8QVCjoywgM"
      },
      "source": [
        "# 📘 概要：os.listdir()とは？\n",
        "Pythonの標準ライブラリ`os`モジュールに含まれる`os.listdir()`は、**指定したディレクトリに存在するファイルやディレクトリの名前を一覧で取得**する関数です。\n",
        "\n",
        "- 戻り値は**リスト（list）**型\n",
        "- ディレクトリ内の全てのエントリ（ファイル・ディレクトリなど）を含む\n",
        "- 非再帰的（サブディレクトリの中身は表示しない）"
      ]
    },
    {
      "cell_type": "markdown",
      "metadata": {
        "id": "F6cg25CSywgO"
      },
      "source": [
        "## 🔰 基本的な使い方"
      ]
    },
    {
      "cell_type": "code",
      "execution_count": null,
      "metadata": {
        "id": "4EUTG6rrywgO"
      },
      "outputs": [],
      "source": [
        "import os\n",
        "# 1. カレントディレクトリの中身を取得\n",
        "print(os.listdir())"
      ]
    },
    {
      "cell_type": "code",
      "execution_count": null,
      "metadata": {
        "id": "c78nz4SOywgP"
      },
      "outputs": [],
      "source": [
        "# 2. パスを指定して取得\n",
        "print(os.listdir('/usr/bin'))"
      ]
    },
    {
      "cell_type": "code",
      "execution_count": null,
      "metadata": {
        "id": "5jNnE6LDywgP"
      },
      "outputs": [],
      "source": [
        "# 3. 空のディレクトリだと空リストが返る\n",
        "os.mkdir('empty_folder')\n",
        "print(os.listdir('empty_folder'))"
      ]
    },
    {
      "cell_type": "markdown",
      "metadata": {
        "id": "6Nw9kaQCywgP"
      },
      "source": [
        "## 📋 主な使い方一覧"
      ]
    },
    {
      "cell_type": "markdown",
      "metadata": {
        "id": "xukTHkxaywgP"
      },
      "source": [
        "| 用途                     | コード例                                      | 備考                          |\n",
        "|--------------------------|-----------------------------------------------|-------------------------------|\n",
        "| カレントディレクトリ     | `os.listdir()`                                | 引数なし                      |\n",
        "| 任意のパス               | `os.listdir('/home/user')`                    | 絶対パス/相対パスOK           |\n",
        "| ファイル名だけ取得       | `for f in os.listdir(): print(f)`            | 拡張子によるフィルタ可能     |\n",
        "| .pyファイルだけ抽出      | `[f for f in os.listdir() if f.endswith('.py')]` | リスト内包表記で絞り込み     |"
      ]
    },
    {
      "cell_type": "markdown",
      "metadata": {
        "id": "JbxYZmB5ywgP"
      },
      "source": [
        "## 🚀 応用例"
      ]
    },
    {
      "cell_type": "code",
      "execution_count": null,
      "metadata": {
        "id": "Ve-6O_msywgP"
      },
      "outputs": [],
      "source": [
        "# 1. ファイルとディレクトリを分けて表示\n",
        "for item in os.listdir():\n",
        "    if os.path.isfile(item):\n",
        "        print(f'File: {item}')\n",
        "    elif os.path.isdir(item):\n",
        "        print(f'Dir: {item}')"
      ]
    },
    {
      "cell_type": "code",
      "execution_count": null,
      "metadata": {
        "id": "w5yaMdxWywgQ"
      },
      "outputs": [],
      "source": [
        "# 2. ファイルサイズとともに表示\n",
        "for file in os.listdir():\n",
        "    if os.path.isfile(file):\n",
        "        size = os.path.getsize(file)\n",
        "        print(f'{file}: {size} bytes')"
      ]
    },
    {
      "cell_type": "code",
      "execution_count": null,
      "metadata": {
        "id": "jPHlxIKxywgQ"
      },
      "outputs": [],
      "source": [
        "# 3. 特定のディレクトリの全 .txt ファイル一覧を表示\n",
        "txts = [f for f in os.listdir('docs') if f.endswith('.txt')]\n",
        "print(txts)"
      ]
    },
    {
      "cell_type": "markdown",
      "metadata": {
        "id": "R7RuTIlnywgQ"
      },
      "source": [
        "## 🧠 実践例"
      ]
    },
    {
      "cell_type": "code",
      "execution_count": null,
      "metadata": {
        "id": "lkp3hS-DywgQ"
      },
      "outputs": [],
      "source": [
        "# 1. カレントディレクトリの内容を表示\n",
        "print(os.listdir())  # カレントディレクトリのファイル一覧を表示します。"
      ]
    },
    {
      "cell_type": "code",
      "execution_count": null,
      "metadata": {
        "id": "8j5WDQNmywgQ"
      },
      "outputs": [],
      "source": [
        "# 2. 'data'というフォルダの中身を表示\n",
        "print(os.listdir('data'))  # 'data'フォルダの中にあるファイル名をリストで取得"
      ]
    },
    {
      "cell_type": "code",
      "execution_count": null,
      "metadata": {
        "id": "Wh65QjIDywgQ"
      },
      "outputs": [],
      "source": [
        "# 3. .csvファイルだけ抽出\n",
        "csv_files = [f for f in os.listdir() if f.endswith('.csv')]\n",
        "print(csv_files)"
      ]
    },
    {
      "cell_type": "code",
      "execution_count": null,
      "metadata": {
        "id": "R55n7Z8LywgQ"
      },
      "outputs": [],
      "source": [
        "# 4. ファイルとフォルダを区別して表示\n",
        "for f in os.listdir():\n",
        "    print('Dir:' if os.path.isdir(f) else 'File:', f)"
      ]
    },
    {
      "cell_type": "code",
      "execution_count": null,
      "metadata": {
        "id": "OcKHDf5wywgR"
      },
      "outputs": [],
      "source": [
        "# 5. 'output'ディレクトリが空か確認\n",
        "if len(os.listdir('output')) == 0:\n",
        "    print('空です')\n",
        "else:\n",
        "    print('ファイルがあります')"
      ]
    },
    {
      "cell_type": "code",
      "execution_count": null,
      "metadata": {
        "id": "hinMnFeXywgR"
      },
      "outputs": [],
      "source": [
        "# 6. サイズが100バイト以上のファイルを抽出\n",
        "large_files = [f for f in os.listdir() if os.path.isfile(f) and os.path.getsize(f) >= 100]\n",
        "print(large_files)"
      ]
    },
    {
      "cell_type": "code",
      "execution_count": null,
      "metadata": {
        "id": "ehhyYdThywgR"
      },
      "outputs": [],
      "source": [
        "# 7. .logファイルを大文字で表示\n",
        "log_files = [f.upper() for f in os.listdir() if f.endswith('.log')]\n",
        "print(log_files)"
      ]
    },
    {
      "cell_type": "code",
      "execution_count": null,
      "metadata": {
        "id": "wYklLZrhywgR"
      },
      "outputs": [],
      "source": [
        "# 8. 最終更新時刻をYYYY-MM-DD形式で表示\n",
        "import datetime\n",
        "for f in os.listdir():\n",
        "    timestamp = os.path.getmtime(f)\n",
        "    dt = datetime.datetime.fromtimestamp(timestamp)\n",
        "    print(f, dt.strftime('%Y-%m-%d'))"
      ]
    },
    {
      "cell_type": "code",
      "execution_count": null,
      "metadata": {
        "id": "os7uFRR3ywgR"
      },
      "outputs": [],
      "source": [
        "# 9. .txtファイルをアルファベット順で表示\n",
        "txts = sorted([f for f in os.listdir() if f.endswith('.txt')])\n",
        "print(txts)"
      ]
    },
    {
      "cell_type": "code",
      "execution_count": null,
      "metadata": {
        "id": "Kcy3puteywgR"
      },
      "outputs": [],
      "source": [
        "# 10. 存在しないパスで試す\n",
        "try:\n",
        "    os.listdir('not_exist')\n",
        "except FileNotFoundError as e:\n",
        "    print('エラー:', e)"
      ]
    }
  ],
  "metadata": {
    "kernelspec": {
      "display_name": "Python 3",
      "language": "python",
      "name": "python3"
    },
    "language_info": {
      "name": "python",
      "version": "3.8"
    },
    "colab": {
      "provenance": [],
      "include_colab_link": true
    }
  },
  "nbformat": 4,
  "nbformat_minor": 0
}