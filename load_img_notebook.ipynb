{
  "cells": [
    {
      "cell_type": "markdown",
      "metadata": {
        "id": "view-in-github",
        "colab_type": "text"
      },
      "source": [
        "<a href=\"https://colab.research.google.com/github/TakeakiSudo/Iryo_adavance_2025/blob/main/load_img_notebook.ipynb\" target=\"_parent\"><img src=\"https://colab.research.google.com/assets/colab-badge.svg\" alt=\"Open In Colab\"/></a>"
      ]
    },
    {
      "cell_type": "markdown",
      "metadata": {
        "id": "N134sQbZ3nqw"
      },
      "source": [
        "# 🖼️ `load_img` の使い方ノートブック\n",
        "Kerasの `load_img` 関数を用いて画像を読み込み、前処理・応用する方法をまとめます。"
      ]
    },
    {
      "cell_type": "markdown",
      "metadata": {
        "id": "-Gsll6TL3nqx"
      },
      "source": [
        "## 📝 概要\n",
        "`load_img` は、画像ファイル（JPEG, PNGなど）を読み込み、PIL形式で返す関数です。"
      ]
    },
    {
      "cell_type": "code",
      "execution_count": null,
      "metadata": {
        "id": "m-CTvVjB3nqx"
      },
      "outputs": [],
      "source": [
        "from keras.utils import load_img\n",
        "img = load_img(\"sample.jpg\")\n",
        "print(type(img))  # <class 'PIL.JpegImagePlugin.JpegImageFile'>\n",
        "img.show()"
      ]
    },
    {
      "cell_type": "markdown",
      "metadata": {
        "id": "t6pvARJm3nqy"
      },
      "source": [
        "## 🔰 基本的な使い方"
      ]
    },
    {
      "cell_type": "code",
      "execution_count": null,
      "metadata": {
        "id": "n3GJyx1Q3nqy"
      },
      "outputs": [],
      "source": [
        "# サイズ指定\n",
        "img_resized = load_img(\"sample.jpg\", target_size=(100, 100))\n",
        "img_resized.show()"
      ]
    },
    {
      "cell_type": "code",
      "execution_count": null,
      "metadata": {
        "id": "yhDGZMN23nqy"
      },
      "outputs": [],
      "source": [
        "# グレースケール\n",
        "img_gray = load_img(\"sample.jpg\", color_mode=\"grayscale\")\n",
        "img_gray.show()"
      ]
    },
    {
      "cell_type": "markdown",
      "metadata": {
        "id": "x4e8M9rt3nqy"
      },
      "source": [
        "## 🚀 応用例"
      ]
    },
    {
      "cell_type": "code",
      "execution_count": null,
      "metadata": {
        "id": "zcTcdqZj3nqz"
      },
      "outputs": [],
      "source": [
        "# NumPy配列に変換して表示\n",
        "from keras.utils import img_to_array\n",
        "import matplotlib.pyplot as plt\n",
        "img = load_img(\"sample.jpg\", target_size=(128, 128))\n",
        "img_array = img_to_array(img)\n",
        "plt.imshow(img_array.astype(\"uint8\"))\n",
        "plt.axis(\"off\")\n",
        "plt.show()"
      ]
    },
    {
      "cell_type": "code",
      "execution_count": null,
      "metadata": {
        "id": "s9SeYU-J3nqz"
      },
      "outputs": [],
      "source": [
        "# 複数画像をループで読み込み\n",
        "image_paths = [\"img1.jpg\", \"img2.jpg\", \"img3.jpg\"]\n",
        "images = [img_to_array(load_img(p, target_size=(128, 128))) for p in image_paths]\n",
        "print(len(images))"
      ]
    },
    {
      "cell_type": "code",
      "execution_count": null,
      "metadata": {
        "id": "-g0dUmJO3nqz"
      },
      "outputs": [],
      "source": [
        "# グレースケール画像を正規化\n",
        "import numpy as np\n",
        "img = load_img(\"sample.jpg\", color_mode=\"grayscale\", target_size=(64, 64))\n",
        "img_array = img_to_array(img) / 255.0\n",
        "print(img_array.shape)"
      ]
    },
    {
      "cell_type": "markdown",
      "metadata": {
        "id": "bMDIT_PA3nqz"
      },
      "source": [
        "## 🧪 演習問題\n",
        "以下の問題にチャレンジしてみましょう。"
      ]
    },
    {
      "cell_type": "markdown",
      "metadata": {
        "id": "W2rik-jk3nqz"
      },
      "source": [
        "1. `load_img` を使って \"cat.jpg\" を読み込み、表示せよ。\n",
        "2. \"cat.jpg\" を `(150, 150)` にリサイズして表示せよ。\n",
        "3. \"dog.jpg\" をグレースケールで読み込み、画像タイプを表示せよ。\n",
        "4. \"bird.jpg\" を読み込み、`img_to_array` でNumPy配列に変換せよ。\n",
        "5. 複数画像 [\"a.jpg\", \"b.jpg\", \"c.jpg\"] をループで読み込み、全てを表示せよ。\n",
        "6. `load_img` で読み込んだ画像を `img_to_array` → `np.mean()` で平均輝度を求めよ。\n",
        "7. カラー画像をグレースケールとして読み込んだとき、配列のshapeはどうなるか？\n",
        "8. `target_size=(256, 256)` でリサイズされた画像のサイズを出力せよ。\n",
        "9. `color_mode=\"rgba\"` を使って画像を読み込み、Alphaチャンネルの情報を表示せよ。\n",
        "10. 自分で選んだ任意の画像を読み込み、matplotlibでグレースケール表示せよ。"
      ]
    },
    {
      "cell_type": "markdown",
      "metadata": {
        "id": "N2OS7xt63nqz"
      },
      "source": [
        "# 🧪 演習問題と解答（`load_img`）"
      ]
    },
    {
      "cell_type": "markdown",
      "metadata": {
        "id": "Girh9zad3nq0"
      },
      "source": [
        "## 1. `load_img` を使って \"cat.jpg\" を読み込み、表示せよ。"
      ]
    },
    {
      "cell_type": "code",
      "execution_count": null,
      "metadata": {
        "id": "hIBrr2sS3nq0"
      },
      "outputs": [],
      "source": [
        "from keras.utils import load_img\n",
        "img = load_img(\"cat.jpg\")\n",
        "img.show()"
      ]
    },
    {
      "cell_type": "markdown",
      "metadata": {
        "id": "B5MI7fso3nq0"
      },
      "source": [
        "**解説**：指定されたファイルパスから画像をPIL形式で読み込み、`show()`で表示します。"
      ]
    },
    {
      "cell_type": "markdown",
      "metadata": {
        "id": "OKASO5DP3nq0"
      },
      "source": [
        "## 2. \"cat.jpg\" を `(150, 150)` にリサイズして表示せよ。"
      ]
    },
    {
      "cell_type": "code",
      "execution_count": null,
      "metadata": {
        "id": "2dceuhZ23nq0"
      },
      "outputs": [],
      "source": [
        "img = load_img(\"cat.jpg\", target_size=(150, 150))\n",
        "img.show()"
      ]
    },
    {
      "cell_type": "markdown",
      "metadata": {
        "id": "DkSvGY003nq0"
      },
      "source": [
        "**解説**：`target_size` によって読み込みと同時にサイズ変更が可能です。"
      ]
    },
    {
      "cell_type": "markdown",
      "metadata": {
        "id": "Hx-uQu6C3nq0"
      },
      "source": [
        "## 3. \"dog.jpg\" をグレースケールで読み込み、画像タイプを表示せよ。"
      ]
    },
    {
      "cell_type": "code",
      "execution_count": null,
      "metadata": {
        "id": "DkCj89t23nq0"
      },
      "outputs": [],
      "source": [
        "img = load_img(\"dog.jpg\", color_mode=\"grayscale\")\n",
        "print(type(img))"
      ]
    },
    {
      "cell_type": "markdown",
      "metadata": {
        "id": "SN3Mlu9j3nq1"
      },
      "source": [
        "**解説**：`color_mode='grayscale'` を使うことで白黒画像として読み込めます。"
      ]
    },
    {
      "cell_type": "markdown",
      "metadata": {
        "id": "y7wn3ytB3nq1"
      },
      "source": [
        "## 4. \"bird.jpg\" を読み込み、`img_to_array` でNumPy配列に変換せよ。"
      ]
    },
    {
      "cell_type": "code",
      "execution_count": null,
      "metadata": {
        "id": "Oj74MLuO3nq1"
      },
      "outputs": [],
      "source": [
        "from keras.utils import img_to_array\n",
        "img = load_img(\"bird.jpg\")\n",
        "arr = img_to_array(img)\n",
        "print(arr.shape)"
      ]
    },
    {
      "cell_type": "markdown",
      "metadata": {
        "id": "RekwphOi3nq1"
      },
      "source": [
        "**解説**：配列化して形状を確認することで、後のモデル入力に使えます。"
      ]
    },
    {
      "cell_type": "markdown",
      "metadata": {
        "id": "W0ZakEDq3nq1"
      },
      "source": [
        "## 5. 複数画像 [\"a.jpg\", \"b.jpg\", \"c.jpg\"] をループで読み込み、全てを表示せよ。"
      ]
    },
    {
      "cell_type": "code",
      "execution_count": null,
      "metadata": {
        "id": "x5y1E-zx3nq1"
      },
      "outputs": [],
      "source": [
        "paths = [\"a.jpg\", \"b.jpg\", \"c.jpg\"]\n",
        "for p in paths:\n",
        "    img = load_img(p)\n",
        "    img.show()"
      ]
    },
    {
      "cell_type": "markdown",
      "metadata": {
        "id": "hBY0dVU03nq2"
      },
      "source": [
        "**解説**：画像リストをfor文で回すことでバッチ処理に応用できます。"
      ]
    },
    {
      "cell_type": "markdown",
      "metadata": {
        "id": "LzMvd5c13nq2"
      },
      "source": [
        "## 6. `load_img` で読み込んだ画像を `img_to_array` → `np.mean()` で平均輝度を求めよ。"
      ]
    },
    {
      "cell_type": "code",
      "execution_count": null,
      "metadata": {
        "id": "Vx_IbyWE3nq2"
      },
      "outputs": [],
      "source": [
        "import numpy as np\n",
        "img = load_img(\"cat.jpg\", color_mode=\"grayscale\")\n",
        "arr = img_to_array(img)\n",
        "avg_brightness = np.mean(arr)\n",
        "print(avg_brightness)"
      ]
    },
    {
      "cell_type": "markdown",
      "metadata": {
        "id": "NLgQMxtm3nq2"
      },
      "source": [
        "**解説**：NumPyの `mean()` を使って、画像全体の明るさを数値で把握できます。"
      ]
    },
    {
      "cell_type": "markdown",
      "metadata": {
        "id": "99nKHqqA3nq2"
      },
      "source": [
        "## 7. カラー画像をグレースケールとして読み込んだとき、配列のshapeはどうなるか？"
      ]
    },
    {
      "cell_type": "code",
      "execution_count": null,
      "metadata": {
        "id": "e1hFu5w_3nq2"
      },
      "outputs": [],
      "source": [
        "img = load_img(\"cat.jpg\", color_mode=\"grayscale\")\n",
        "arr = img_to_array(img)\n",
        "print(arr.shape)"
      ]
    },
    {
      "cell_type": "markdown",
      "metadata": {
        "id": "KoLMIb8b3nq3"
      },
      "source": [
        "**解説**：出力は (高さ, 幅, 1) の3次元になります。"
      ]
    },
    {
      "cell_type": "markdown",
      "metadata": {
        "id": "xBvysOKy3nq3"
      },
      "source": [
        "## 8. `target_size=(256, 256)` でリサイズされた画像のサイズを出力せよ。"
      ]
    },
    {
      "cell_type": "code",
      "execution_count": null,
      "metadata": {
        "id": "MPGMH3Sr3nq3"
      },
      "outputs": [],
      "source": [
        "img = load_img(\"cat.jpg\", target_size=(256, 256))\n",
        "print(img.size)"
      ]
    },
    {
      "cell_type": "markdown",
      "metadata": {
        "id": "JFSkmyIR3nq3"
      },
      "source": [
        "**解説**：PIL画像の `size` は (width, height) のタプルです。"
      ]
    },
    {
      "cell_type": "markdown",
      "metadata": {
        "id": "IVDi9X3r3nq3"
      },
      "source": [
        "## 9. `color_mode=\"rgba\"` を使って画像を読み込み、Alphaチャンネルの情報を表示せよ。"
      ]
    },
    {
      "cell_type": "code",
      "execution_count": null,
      "metadata": {
        "id": "YpGdEZsk3nq3"
      },
      "outputs": [],
      "source": [
        "img = load_img(\"transparent.png\", color_mode=\"rgba\")\n",
        "arr = img_to_array(img)\n",
        "alpha_channel = arr[:, :, 3]\n",
        "print(alpha_channel)"
      ]
    },
    {
      "cell_type": "markdown",
      "metadata": {
        "id": "pI1q47I23nq3"
      },
      "source": [
        "**解説**：4チャンネル画像の最後の軸が透明度情報（Alpha）です。"
      ]
    },
    {
      "cell_type": "markdown",
      "metadata": {
        "id": "RronYWU63nq3"
      },
      "source": [
        "## 10. 自分で選んだ任意の画像を読み込み、matplotlibでグレースケール表示せよ。"
      ]
    },
    {
      "cell_type": "code",
      "execution_count": null,
      "metadata": {
        "id": "mm_kTtCR3nq3"
      },
      "outputs": [],
      "source": [
        "import matplotlib.pyplot as plt\n",
        "img = load_img(\"my_image.jpg\", color_mode=\"grayscale\")\n",
        "arr = img_to_array(img)\n",
        "plt.imshow(arr.squeeze(), cmap='gray')\n",
        "plt.axis('off')\n",
        "plt.show()"
      ]
    },
    {
      "cell_type": "markdown",
      "metadata": {
        "id": "tWEeXeBb3nq3"
      },
      "source": [
        "**解説**：`squeeze()`で (H, W, 1) → (H, W) に整形し、`cmap='gray'` で白黒表示します。"
      ]
    }
  ],
  "metadata": {
    "kernelspec": {
      "display_name": "Python 3",
      "language": "python",
      "name": "python3"
    },
    "language_info": {
      "name": "python",
      "version": "3.8"
    },
    "colab": {
      "provenance": [],
      "include_colab_link": true
    }
  },
  "nbformat": 4,
  "nbformat_minor": 0
}