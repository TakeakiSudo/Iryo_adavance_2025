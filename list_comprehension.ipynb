{
  "cells": [
    {
      "cell_type": "markdown",
      "metadata": {
        "id": "view-in-github",
        "colab_type": "text"
      },
      "source": [
        "<a href=\"https://colab.research.google.com/github/TakeakiSudo/Iryo_adavance_2025/blob/main/list_comprehension.ipynb\" target=\"_parent\"><img src=\"https://colab.research.google.com/assets/colab-badge.svg\" alt=\"Open In Colab\"/></a>"
      ]
    },
    {
      "cell_type": "markdown",
      "metadata": {
        "id": "PGXKJUK83GqZ"
      },
      "source": [
        "# 📝 概要\n",
        "Pythonの**リスト内包表記（list comprehension）**は、既存のリストやイテラブルから新しいリストを効率よく作成するための記法です。\n",
        "\n",
        "**基本構文：**\n",
        "`[式 for 変数 in イテラブル if 条件]`\n",
        "\n",
        "コードを簡潔に保ち、forループより高速な場合もあります。"
      ]
    },
    {
      "cell_type": "markdown",
      "metadata": {
        "id": "00nhoTpA3Gqb"
      },
      "source": [
        "## 🔰 基本的な使い方"
      ]
    },
    {
      "cell_type": "code",
      "execution_count": 1,
      "metadata": {
        "colab": {
          "base_uri": "https://localhost:8080/"
        },
        "id": "idIiRHTQ3Gqb",
        "outputId": "e81601a6-b8ef-46ec-e5ca-586c2dd8c980"
      },
      "outputs": [
        {
          "output_type": "stream",
          "name": "stdout",
          "text": [
            "[0, 1, 4, 9, 16]\n"
          ]
        }
      ],
      "source": [
        "# 1. 数字の2乗をリスト化\n",
        "squares = [x**2 for x in range(5)]\n",
        "print(squares)  # [0, 1, 4, 9, 16]"
      ]
    },
    {
      "cell_type": "code",
      "execution_count": 2,
      "metadata": {
        "colab": {
          "base_uri": "https://localhost:8080/"
        },
        "id": "-jPovaG03Gqc",
        "outputId": "0937ffbe-4afd-4b71-b69b-f89155146fd6"
      },
      "outputs": [
        {
          "output_type": "stream",
          "name": "stdout",
          "text": [
            "[0, 2, 4, 6, 8]\n"
          ]
        }
      ],
      "source": [
        "# 2. 偶数だけ抽出\n",
        "evens = [x for x in range(10) if x % 2 == 0]\n",
        "print(evens)  # [0, 2, 4, 6, 8]"
      ]
    },
    {
      "cell_type": "code",
      "execution_count": 3,
      "metadata": {
        "colab": {
          "base_uri": "https://localhost:8080/"
        },
        "id": "AykvxRMF3Gqc",
        "outputId": "4ac1acdf-bf65-4672-cafd-ab09a205d647"
      },
      "outputs": [
        {
          "output_type": "stream",
          "name": "stdout",
          "text": [
            "['y', 'h', 'n']\n"
          ]
        }
      ],
      "source": [
        "# 3. 小文字だけ抽出\n",
        "chars = [c for c in \"PyThOn\" if c.islower()]\n",
        "print(chars)  # ['y', 'h', 'n']"
      ]
    },
    {
      "cell_type": "markdown",
      "metadata": {
        "id": "xrPby4cV3Gqc"
      },
      "source": [
        "## 📋 色んな使い方（表）"
      ]
    },
    {
      "cell_type": "markdown",
      "metadata": {
        "id": "rIWEsokC3Gqd"
      },
      "source": [
        "| 使用パターン | 説明 | 例 |\n",
        "|--------------|------|----|\n",
        "| 基本形 | 値を変換して新しいリスト作成 | `[x*2 for x in range(3)]` |\n",
        "| 条件付き | 条件に合う値のみ | `[x for x in range(5) if x % 2 == 1]` |\n",
        "| if-else式 | 条件により値を分岐 | `[x if x > 0 else 0 for x in [-1, 2, -3]]` |\n",
        "| ネスト | 二重ループで組み合わせ | `[(x, y) for x in [1,2] for y in [3,4]]` |\n",
        "| 関数使用 | map的に処理 | `[str(x) for x in range(3)]` |"
      ]
    },
    {
      "cell_type": "markdown",
      "metadata": {
        "id": "dy7Fg9ma3Gqd"
      },
      "source": [
        "## 🚀 応用例"
      ]
    },
    {
      "cell_type": "code",
      "execution_count": 4,
      "metadata": {
        "colab": {
          "base_uri": "https://localhost:8080/"
        },
        "id": "Kf-YHUkQ3Gqd",
        "outputId": "c18cffd4-7002-49c2-8d24-36a44c73e8b3"
      },
      "outputs": [
        {
          "output_type": "stream",
          "name": "stdout",
          "text": [
            "[1, 2, 3, 4, 5, 6]\n"
          ]
        }
      ],
      "source": [
        "# 1. 二次元リストのフラット化\n",
        "matrix = [[1, 2], [3, 4], [5, 6]]\n",
        "flatten = [num for row in matrix for num in row]\n",
        "print(flatten)"
      ]
    },
    {
      "cell_type": "code",
      "execution_count": 5,
      "metadata": {
        "colab": {
          "base_uri": "https://localhost:8080/"
        },
        "id": "H0px7nGP3Gqd",
        "outputId": "e35c8934-3cdb-4950-b91d-f8c7c68423a3"
      },
      "outputs": [
        {
          "output_type": "stream",
          "name": "stdout",
          "text": [
            "['b', 'c']\n"
          ]
        }
      ],
      "source": [
        "# 2. 辞書から条件付きキー取得\n",
        "data = {'a': 1, 'b': 2, 'c': 3}\n",
        "filtered_keys = [k for k, v in data.items() if v >= 2]\n",
        "print(filtered_keys)"
      ]
    },
    {
      "cell_type": "code",
      "execution_count": 6,
      "metadata": {
        "colab": {
          "base_uri": "https://localhost:8080/"
        },
        "id": "kj1P_2SQ3Gqd",
        "outputId": "c8083c2e-fbff-480e-aeea-98be93d11fdd"
      },
      "outputs": [
        {
          "output_type": "stream",
          "name": "stdout",
          "text": [
            "['HELLO', 'WORLD', 'THIS', 'IS', 'PYTHON']\n"
          ]
        }
      ],
      "source": [
        "# 3. 単語を大文字化\n",
        "sentence = \"hello world this is python\"\n",
        "upper_words = [word.upper() for word in sentence.split()]\n",
        "print(upper_words)"
      ]
    },
    {
      "cell_type": "markdown",
      "metadata": {
        "id": "lZRS_cfl3Gqd"
      },
      "source": [
        "## 🧠 演習問題（10問）"
      ]
    },
    {
      "cell_type": "markdown",
      "metadata": {
        "id": "x-rMpNIV3Gqd"
      },
      "source": [
        "**Q1.** 以下のコードの出力は？\n",
        "\n",
        "`[x**2 for x in range(4)]`\n",
        "\n",
        "- A. [1, 4, 9, 16]\n",
        "- B. [0, 1, 4, 9]\n",
        "- C. [0, 2, 4, 6]\n",
        "\n",
        "**解説：** 0〜3の2乗。\n"
      ]
    },
    {
      "cell_type": "code",
      "source": [
        "[x**2 for x in range(4)]"
      ],
      "metadata": {
        "colab": {
          "base_uri": "https://localhost:8080/"
        },
        "id": "aL0PyDTo3X2s",
        "outputId": "c58be097-7606-49b4-c61e-9a091e93ebe4"
      },
      "execution_count": 7,
      "outputs": [
        {
          "output_type": "execute_result",
          "data": {
            "text/plain": [
              "[0, 1, 4, 9]"
            ]
          },
          "metadata": {},
          "execution_count": 7
        }
      ]
    },
    {
      "cell_type": "markdown",
      "metadata": {
        "id": "KmEd3d_L3Gqe"
      },
      "source": [
        "**Q2.** 奇数のみを抽出するコードの出力は？\n",
        "\n",
        "`[x for x in range(6) if x % 2 == 1]`\n",
        "\n",
        "- A. [1, 3, 5]\n",
        "- B. [0, 2, 4]\n",
        "- C. [1, 2, 3, 5]\n",
        "\n",
        "**解説：** 奇数だけ抽出。\n"
      ]
    },
    {
      "cell_type": "code",
      "source": [
        "[x for x in range(6) if x % 2 == 1]"
      ],
      "metadata": {
        "colab": {
          "base_uri": "https://localhost:8080/"
        },
        "id": "4JRojIsi3g_Z",
        "outputId": "f3131619-eafe-4768-df98-b1e8f7d3fc19"
      },
      "execution_count": 8,
      "outputs": [
        {
          "output_type": "execute_result",
          "data": {
            "text/plain": [
              "[1, 3, 5]"
            ]
          },
          "metadata": {},
          "execution_count": 8
        }
      ]
    },
    {
      "cell_type": "markdown",
      "metadata": {
        "id": "s-I4kSZh3Gqe"
      },
      "source": [
        "**Q3.** `[char.upper() for char in \"abc\"]` の出力は？\n",
        "\n",
        "\n",
        "\n",
        "- A. ['a', 'b', 'c']\n",
        "- B. ['A', 'B', 'C']\n",
        "- C. 'ABC'\n",
        "\n",
        "**解説：** 各文字を大文字化。\n"
      ]
    },
    {
      "cell_type": "code",
      "source": [
        "[char.upper() for char in \"abc\"]"
      ],
      "metadata": {
        "colab": {
          "base_uri": "https://localhost:8080/"
        },
        "id": "fNWZi64G3jzZ",
        "outputId": "4e1c4249-79eb-45c6-a122-aa27f684e07c"
      },
      "execution_count": 9,
      "outputs": [
        {
          "output_type": "execute_result",
          "data": {
            "text/plain": [
              "['A', 'B', 'C']"
            ]
          },
          "metadata": {},
          "execution_count": 9
        }
      ]
    },
    {
      "cell_type": "markdown",
      "metadata": {
        "id": "3Jk9zT563Gqe"
      },
      "source": [
        "**Q4.** `x if x % 2 == 0 else -1` の使い方\n",
        "\n",
        "`[x if x % 2 == 0 else -1 for x in range(4)]`\n",
        "\n",
        "- A. [0, -1, 2, -1]\n",
        "- B. [-1, -1, -1, -1]\n",
        "- C. [0, 1, 2, 3]\n",
        "\n",
        "**解説：** 偶数はそのまま、奇数は-1。\n"
      ]
    },
    {
      "cell_type": "code",
      "source": [
        "[x if x % 2 == 0 else -1 for x in range(4)]"
      ],
      "metadata": {
        "colab": {
          "base_uri": "https://localhost:8080/"
        },
        "id": "MGgtkW1k3mLE",
        "outputId": "3c79b096-2880-4f13-e08f-2f6e48f5c96a"
      },
      "execution_count": 10,
      "outputs": [
        {
          "output_type": "execute_result",
          "data": {
            "text/plain": [
              "[0, -1, 2, -1]"
            ]
          },
          "metadata": {},
          "execution_count": 10
        }
      ]
    },
    {
      "cell_type": "markdown",
      "metadata": {
        "id": "nnsMNQh73Gqe"
      },
      "source": [
        "**Q5.** 二重ループの内包表記の出力は？\n",
        "\n",
        "`[(x, y) for x in [1, 2] for y in [3, 4]]`\n",
        "\n",
        "- A. [(1, 3), (1, 4), (2, 3), (2, 4)]\n",
        "- B. [(3, 1), (4, 1), (3, 2), (4, 2)]\n",
        "- C. [(1, 3, 2, 4)]\n",
        "\n",
        "**解説：** 各xに対して全yを列挙。\n"
      ]
    },
    {
      "cell_type": "code",
      "source": [
        "[(x, y) for x in [1, 2] for y in [3, 4]]"
      ],
      "metadata": {
        "colab": {
          "base_uri": "https://localhost:8080/"
        },
        "id": "b_v6gDJ-3qVh",
        "outputId": "65459568-2e7b-4e4f-c418-c37ff17c4cd2"
      },
      "execution_count": 11,
      "outputs": [
        {
          "output_type": "execute_result",
          "data": {
            "text/plain": [
              "[(1, 3), (1, 4), (2, 3), (2, 4)]"
            ]
          },
          "metadata": {},
          "execution_count": 11
        }
      ]
    },
    {
      "cell_type": "markdown",
      "metadata": {
        "id": "WbOHP_MA3Gqe"
      },
      "source": [
        "**Q6.** 偶数の2乗リストを作成するコードは？\n",
        "\n",
        "`[x**2 for x in range(5) if x % 2 == 0]`\n",
        "\n",
        "- A. [0, 1, 4, 9, 16]\n",
        "- B. [0, 4, 16]\n",
        "- C. [1, 9]\n",
        "\n",
        "**解説：** 偶数: 0, 2, 4 の2乗。\n"
      ]
    },
    {
      "cell_type": "code",
      "source": [
        "[x**2 for x in range(5) if x % 2 == 0]"
      ],
      "metadata": {
        "colab": {
          "base_uri": "https://localhost:8080/"
        },
        "id": "IBPW6l3_3sN2",
        "outputId": "fbaf6e83-1275-4b9e-d464-dd619deb6795"
      },
      "execution_count": 12,
      "outputs": [
        {
          "output_type": "execute_result",
          "data": {
            "text/plain": [
              "[0, 4, 16]"
            ]
          },
          "metadata": {},
          "execution_count": 12
        }
      ]
    },
    {
      "cell_type": "markdown",
      "metadata": {
        "id": "OtuSUAvE3Gqe"
      },
      "source": [
        "**Q7.** 辞書 `data = {'a':1, 'b':2, 'c':3}` から偶数値のキーを抽出する方法は？\n",
        "\n",
        "\n",
        "\n",
        "- A. [k for k in data if data[k] % 2 == 0]\n",
        "- B. [k for k in data.values() if k % 2 == 0]\n",
        "- C. [v for k, v in data.items() if v % 2 == 0]\n",
        "\n",
        "**解説：** 条件付きでキーにアクセス。\n"
      ]
    },
    {
      "cell_type": "code",
      "source": [
        "data = {'a':1, 'b':2, 'c':3}\n",
        "[k for k in data if data[k] % 2 == 0]"
      ],
      "metadata": {
        "colab": {
          "base_uri": "https://localhost:8080/"
        },
        "id": "MZvssSWd3uO5",
        "outputId": "fbcb43a8-c085-4815-d7f8-b5f8ce35606e"
      },
      "execution_count": 16,
      "outputs": [
        {
          "output_type": "execute_result",
          "data": {
            "text/plain": [
              "['b']"
            ]
          },
          "metadata": {},
          "execution_count": 16
        }
      ]
    },
    {
      "cell_type": "markdown",
      "metadata": {
        "id": "-tEAwY1u3Gqf"
      },
      "source": [
        "**Q8.** `ord(c)` で文字コードを取得するコードの出力は？\n",
        "\n",
        "`[ord(c) for c in \"abc\"]`\n",
        "\n",
        "- A. [97, 98, 99]\n",
        "- B. [65, 66, 67]\n",
        "- C. ['a', 'b', 'c']\n",
        "\n",
        "**解説：** `a`〜`c`のASCIIコード。\n"
      ]
    },
    {
      "cell_type": "code",
      "source": [
        "[ord(c) for c in \"abc\"]"
      ],
      "metadata": {
        "colab": {
          "base_uri": "https://localhost:8080/"
        },
        "id": "pN707O854Byg",
        "outputId": "51a4b26c-5121-4911-8b35-aed51c8e5b50"
      },
      "execution_count": 17,
      "outputs": [
        {
          "output_type": "execute_result",
          "data": {
            "text/plain": [
              "[97, 98, 99]"
            ]
          },
          "metadata": {},
          "execution_count": 17
        }
      ]
    },
    {
      "cell_type": "markdown",
      "metadata": {
        "id": "XX3k3vyg3Gqf"
      },
      "source": [
        "**Q9.** 二次元リストのフラット化の結果は？\n",
        "\n",
        "`[x for row in [[1, 2], [3, 4]] for x in row]`\n",
        "\n",
        "- A. [1, 2, 3, 4]\n",
        "- B. [[1, 2], [3, 4]]\n",
        "- C. [1, [2, 3], 4]\n",
        "\n",
        "**解説：** 内包で1次元化。\n"
      ]
    },
    {
      "cell_type": "code",
      "source": [
        "[x for row in [[1, 2], [3, 4]] for x in row]"
      ],
      "metadata": {
        "colab": {
          "base_uri": "https://localhost:8080/"
        },
        "id": "-vT8QXDO4E8q",
        "outputId": "84b5e903-c510-41e0-c42b-00fe020476ce"
      },
      "execution_count": 18,
      "outputs": [
        {
          "output_type": "execute_result",
          "data": {
            "text/plain": [
              "[1, 2, 3, 4]"
            ]
          },
          "metadata": {},
          "execution_count": 18
        }
      ]
    },
    {
      "cell_type": "markdown",
      "metadata": {
        "id": "U6ERln0z3Gqf"
      },
      "source": [
        "**Q10.** `if-else`式で偶奇を判定する出力は？\n",
        "\n",
        "`[\"even\" if x % 2 == 0 else \"odd\" for x in range(3)]`\n",
        "\n",
        "- A. ['odd', 'even', 'odd']\n",
        "- B. ['even', 'odd', 'even']\n",
        "- C. ['even', 'odd', 'even']\n",
        "\n",
        "**解説：** xが偶数なら'even'、そうでなければ'odd'。\n"
      ]
    },
    {
      "cell_type": "code",
      "source": [
        "[\"even\" if x % 2 == 0 else \"odd\" for x in range(3)]"
      ],
      "metadata": {
        "colab": {
          "base_uri": "https://localhost:8080/"
        },
        "id": "SFs4YWqX4HfJ",
        "outputId": "d49f06d5-b20c-442c-c852-eba8af8afaee"
      },
      "execution_count": 19,
      "outputs": [
        {
          "output_type": "execute_result",
          "data": {
            "text/plain": [
              "['even', 'odd', 'even']"
            ]
          },
          "metadata": {},
          "execution_count": 19
        }
      ]
    },
    {
      "cell_type": "code",
      "source": [],
      "metadata": {
        "id": "yQ8Mu7mh4JHy"
      },
      "execution_count": null,
      "outputs": []
    }
  ],
  "metadata": {
    "kernelspec": {
      "display_name": "Python 3",
      "language": "python",
      "name": "python3"
    },
    "language_info": {
      "name": "python",
      "version": "3.8"
    },
    "colab": {
      "provenance": [],
      "include_colab_link": true
    }
  },
  "nbformat": 4,
  "nbformat_minor": 0
}