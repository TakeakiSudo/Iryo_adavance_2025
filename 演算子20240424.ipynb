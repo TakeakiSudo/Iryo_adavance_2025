{
  "nbformat": 4,
  "nbformat_minor": 0,
  "metadata": {
    "colab": {
      "provenance": [],
      "include_colab_link": true
    },
    "kernelspec": {
      "name": "python3",
      "display_name": "Python 3"
    },
    "language_info": {
      "name": "python"
    }
  },
  "cells": [
    {
      "cell_type": "markdown",
      "metadata": {
        "id": "view-in-github",
        "colab_type": "text"
      },
      "source": [
        "<a href=\"https://colab.research.google.com/github/TakeakiSudo/Iryo_adavance_2025/blob/main/%E6%BC%94%E7%AE%97%E5%AD%9020240424.ipynb\" target=\"_parent\"><img src=\"https://colab.research.google.com/assets/colab-badge.svg\" alt=\"Open In Colab\"/></a>"
      ]
    },
    {
      "cell_type": "markdown",
      "source": [
        "# 演算子"
      ],
      "metadata": {
        "id": "8X2Gqq5sCI2l"
      }
    },
    {
      "cell_type": "markdown",
      "source": [
        "ここでは四則演算やその他の基本的な演算子について説明します。"
      ],
      "metadata": {
        "id": "6nR1q4FECLhi"
      }
    },
    {
      "cell_type": "markdown",
      "source": [
        "**加算 (+)**"
      ],
      "metadata": {
        "id": "hZ6jveYNCrna"
      }
    },
    {
      "cell_type": "markdown",
      "source": [
        "加算は、二つの数値を合計するときに使います。"
      ],
      "metadata": {
        "id": "hQPldXvDCucA"
      }
    },
    {
      "cell_type": "code",
      "execution_count": null,
      "metadata": {
        "colab": {
          "base_uri": "https://localhost:8080/"
        },
        "id": "4vqAhQ-UCB9L",
        "outputId": "b8faf54c-cf83-4ea6-e5d9-b90469c2c840"
      },
      "outputs": [
        {
          "output_type": "stream",
          "name": "stdout",
          "text": [
            "8\n"
          ]
        }
      ],
      "source": [
        "# 5と3を加算する\n",
        "result = 5 + 3\n",
        "print(result)  # 出力は 8"
      ]
    },
    {
      "cell_type": "markdown",
      "source": [
        "**減算 (-)**"
      ],
      "metadata": {
        "id": "dTOHOMP0CzNF"
      }
    },
    {
      "cell_type": "markdown",
      "source": [
        "減算は、一つの数から別の数を引くときに使います。"
      ],
      "metadata": {
        "id": "6Hzr3knUC1vb"
      }
    },
    {
      "cell_type": "code",
      "source": [
        "# 10から4を減算する\n",
        "result = 10 - 4\n",
        "print(result)  # 出力は 6"
      ],
      "metadata": {
        "colab": {
          "base_uri": "https://localhost:8080/"
        },
        "id": "BPTTh83-CPO-",
        "outputId": "242704ec-5878-421a-f0db-0b97b261e6b4"
      },
      "execution_count": null,
      "outputs": [
        {
          "output_type": "stream",
          "name": "stdout",
          "text": [
            "6\n"
          ]
        }
      ]
    },
    {
      "cell_type": "markdown",
      "source": [
        " **乗算 (*)**"
      ],
      "metadata": {
        "id": "6YzyR1D0C6Gx"
      }
    },
    {
      "cell_type": "markdown",
      "source": [
        "乗算は、二つの数値を掛け合わせるときに使います。"
      ],
      "metadata": {
        "id": "0kQnpi21C_3o"
      }
    },
    {
      "cell_type": "code",
      "source": [
        "# 7と2を乗算する\n",
        "result = 7 * 2\n",
        "print(result)  # 出力は 14"
      ],
      "metadata": {
        "colab": {
          "base_uri": "https://localhost:8080/"
        },
        "id": "QOh2NBg7CPM5",
        "outputId": "7313bf36-05f1-4bb5-da53-5a6a2279da1f"
      },
      "execution_count": null,
      "outputs": [
        {
          "output_type": "stream",
          "name": "stdout",
          "text": [
            "14\n"
          ]
        }
      ]
    },
    {
      "cell_type": "markdown",
      "source": [
        "**除算 (/)**"
      ],
      "metadata": {
        "id": "U6zVA-MyDFIY"
      }
    },
    {
      "cell_type": "markdown",
      "source": [
        "除算は、一つの数値を別の数値で割るときに使います。この操作は、常に浮動小数点数を返します。"
      ],
      "metadata": {
        "id": "bkuqEPpvDGPk"
      }
    },
    {
      "cell_type": "code",
      "source": [
        "# 8を2で除算する\n",
        "result = 8 / 2\n",
        "print(result)  # 出力は 4.0"
      ],
      "metadata": {
        "colab": {
          "base_uri": "https://localhost:8080/"
        },
        "id": "QTxobfK_CPLF",
        "outputId": "97dec9be-5bdd-4b18-ec2b-bd6749670cf9"
      },
      "execution_count": null,
      "outputs": [
        {
          "output_type": "stream",
          "name": "stdout",
          "text": [
            "4.0\n"
          ]
        }
      ]
    },
    {
      "cell_type": "markdown",
      "source": [
        "**整数除算 (//)**"
      ],
      "metadata": {
        "id": "Ht7n-gZCDLrY"
      }
    },
    {
      "cell_type": "markdown",
      "source": [
        "整数除算は、一つの数値を別の数値で割り、その商を整数で返します（小数点以下を切り捨て）。"
      ],
      "metadata": {
        "id": "KGep46aGDNBl"
      }
    },
    {
      "cell_type": "code",
      "source": [
        "# 9を2で整数除算する\n",
        "result = 9 // 2\n",
        "print(result)  # 出力は 4"
      ],
      "metadata": {
        "colab": {
          "base_uri": "https://localhost:8080/"
        },
        "id": "O7JTuf3kCPJA",
        "outputId": "afaf2152-0732-439b-c5b9-65395e752cde"
      },
      "execution_count": null,
      "outputs": [
        {
          "output_type": "stream",
          "name": "stdout",
          "text": [
            "4\n"
          ]
        }
      ]
    },
    {
      "cell_type": "markdown",
      "source": [
        "**剰余演算 (%)**"
      ],
      "metadata": {
        "id": "H63fDJxRDSv-"
      }
    },
    {
      "cell_type": "markdown",
      "source": [
        "剰余演算は、一つの数値を別の数値で割った後の余りを返します。"
      ],
      "metadata": {
        "id": "6XaSOu5CDT58"
      }
    },
    {
      "cell_type": "code",
      "source": [
        "# 9を2で割った余りを計算する\n",
        "result = 9 % 2\n",
        "print(result)  # 出力は 1"
      ],
      "metadata": {
        "colab": {
          "base_uri": "https://localhost:8080/"
        },
        "id": "yBI207MCDSP7",
        "outputId": "d6910f44-18c7-4ab8-a859-397986573529"
      },
      "execution_count": null,
      "outputs": [
        {
          "output_type": "stream",
          "name": "stdout",
          "text": [
            "1\n"
          ]
        }
      ]
    },
    {
      "cell_type": "markdown",
      "source": [
        " **累乗 (**)**"
      ],
      "metadata": {
        "id": "FGnYKVanDYoL"
      }
    },
    {
      "cell_type": "markdown",
      "source": [
        "累乗は、数値をべき乗するときに使います。"
      ],
      "metadata": {
        "id": "9m_ctKEFDbI8"
      }
    },
    {
      "cell_type": "code",
      "source": [
        "# 3の2乗を計算する\n",
        "result = 3 ** 2\n",
        "print(result)  # 出力は 9"
      ],
      "metadata": {
        "colab": {
          "base_uri": "https://localhost:8080/"
        },
        "id": "GsfpJYPZDSN1",
        "outputId": "28169209-2234-4ec1-a4d5-f0e7d1c72b4d"
      },
      "execution_count": null,
      "outputs": [
        {
          "output_type": "stream",
          "name": "stdout",
          "text": [
            "9\n"
          ]
        }
      ]
    },
    {
      "cell_type": "markdown",
      "source": [
        "\n",
        "Pythonには、基本的な演算子以外にもさまざまな操作や関数があります。ここではいくつかの基本的な機能を順に説明し、それぞれの用途とコード例を示します。"
      ],
      "metadata": {
        "id": "eJOVOoRjDkcB"
      }
    },
    {
      "cell_type": "markdown",
      "source": [
        "**比較演算子**"
      ],
      "metadata": {
        "id": "zENDqnQxDhOZ"
      }
    },
    {
      "cell_type": "markdown",
      "source": [
        "比較演算子を使用して、数値、文字列などの比較を行うことができます。これは条件文やループでよく使用されます。"
      ],
      "metadata": {
        "id": "hd2oB5loDibA"
      }
    },
    {
      "cell_type": "code",
      "source": [
        "# 等しいかを比較する\n",
        "print(10 == 10)  # True\n",
        "# 等しくないかを比較する\n",
        "print(10 != 5)   # True\n",
        "# より大きいかを比較する\n",
        "print(10 > 5)    # True\n",
        "# より小さいかを比較する\n",
        "print(10 < 20)   # True\n",
        "# 以上かを比較する\n",
        "print(10 >= 10)  # True\n",
        "# 以下かを比較する\n",
        "print(10 <= 5)   # False"
      ],
      "metadata": {
        "colab": {
          "base_uri": "https://localhost:8080/"
        },
        "id": "_d86WcARDSLw",
        "outputId": "a198fc91-145c-4375-fbce-0523a64fd7ff"
      },
      "execution_count": null,
      "outputs": [
        {
          "output_type": "stream",
          "name": "stdout",
          "text": [
            "True\n",
            "True\n",
            "True\n",
            "True\n",
            "True\n",
            "False\n"
          ]
        }
      ]
    },
    {
      "cell_type": "markdown",
      "source": [
        "**論理演算子**"
      ],
      "metadata": {
        "id": "CvCq_sx4Dr6q"
      }
    },
    {
      "cell_type": "markdown",
      "source": [
        "論理演算子を使用して、複数の条件を組み合わせることができます。これらも条件文やループでよく使用されます。"
      ],
      "metadata": {
        "id": "vl3sTtQWDtK4"
      }
    },
    {
      "cell_type": "code",
      "source": [
        "# 両方の条件が真であれば真 (AND)\n",
        "print((10 > 5) and (10 < 20))  # True\n",
        "# どちらか一方の条件が真であれば真 (OR)\n",
        "print((10 > 20) or (10 == 10))  # True\n",
        "# 条件の否定 (NOT)\n",
        "print(not (10 < 5))            # True"
      ],
      "metadata": {
        "colab": {
          "base_uri": "https://localhost:8080/"
        },
        "id": "Sh0zg-pnDSJ1",
        "outputId": "45c52432-b92c-4f40-e27b-981fcc153e34"
      },
      "execution_count": null,
      "outputs": [
        {
          "output_type": "stream",
          "name": "stdout",
          "text": [
            "True\n",
            "True\n",
            "True\n"
          ]
        }
      ]
    }
  ]
}