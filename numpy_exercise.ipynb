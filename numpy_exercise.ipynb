{
  "cells": [
    {
      "cell_type": "markdown",
      "metadata": {
        "id": "view-in-github",
        "colab_type": "text"
      },
      "source": [
        "<a href=\"https://colab.research.google.com/github/TakeakiSudo/Iryo_adavance_2025/blob/main/numpy_exercise.ipynb\" target=\"_parent\"><img src=\"https://colab.research.google.com/assets/colab-badge.svg\" alt=\"Open In Colab\"/></a>"
      ]
    },
    {
      "cell_type": "markdown",
      "metadata": {
        "id": "-kTi_ttvOQMN"
      },
      "source": [
        "# 🧠 NumPyとは？\n",
        "NumPy（Numerical Python）は、**高性能な数値計算を可能にするPythonライブラリ**です。   \n",
        "主な特徴：\n",
        "- 多次元配列（ndarray）を扱える\n",
        "- 高速な数学関数\n",
        "- C言語で実装されており高速\n",
        "- 他ライブラリの基盤（Pandas, Scikit-learnなど）"
      ]
    },
    {
      "cell_type": "markdown",
      "source": [
        "## 📦 主な機能とモジュール一覧\n",
        "\n",
        "| モジュール/関数 | 説明 |\n",
        "| --- | --- |\n",
        "| `np.array` | 配列を作成（リストやタプルを多次元配列に変換） |\n",
        "| `np.arange` | 等間隔の数列を生成 |\n",
        "| `np.linspace` | 区間を等分割した配列を生成（開始・終了・分割数を指定） |\n",
        "| `np.zeros`, `np.ones` | すべて0または1の配列を生成 |\n",
        "| `np.eye` | 単位行列を生成 |\n",
        "| `np.reshape` | 配列の形を変更 |\n",
        "| `np.sum`, `np.mean` | 合計、平均を計算 |\n",
        "| `np.std`, `np.var` | 標準偏差、分散を計算 |\n",
        "| `np.dot`, `np.matmul` | 行列の積を計算 |\n",
        "| `np.random` | 乱数の生成（整数、正規分布、一様分布など） |\n",
        "| `np.sort`, `np.argsort` | 配列のソート、インデックス順取得 |\n",
        "| `np.where`, `np.select` | 条件による配列操作 |"
      ],
      "metadata": {
        "id": "ykXcl2phOiU5"
      }
    },
    {
      "cell_type": "markdown",
      "metadata": {
        "id": "VgmEF84kOQMO"
      },
      "source": [
        "## 🔰 基本的な使い方"
      ]
    },
    {
      "cell_type": "code",
      "execution_count": null,
      "metadata": {
        "id": "dsrJ9YBwOQMO"
      },
      "outputs": [],
      "source": [
        "import numpy as np"
      ]
    },
    {
      "cell_type": "code",
      "execution_count": null,
      "metadata": {
        "id": "-W4WKitZOQMO"
      },
      "outputs": [],
      "source": [
        "# 配列の作成とアクセス\n",
        "arr = np.array([1, 2, 3])\n",
        "print(arr[0])"
      ]
    },
    {
      "cell_type": "code",
      "execution_count": null,
      "metadata": {
        "id": "VyGfm6hPOQMP"
      },
      "outputs": [],
      "source": [
        "# ゼロ/ワン/等差配列\n",
        "print(np.zeros(3))\n",
        "print(np.ones((2, 2)))\n",
        "print(np.arange(0, 10, 2))"
      ]
    },
    {
      "cell_type": "code",
      "execution_count": null,
      "metadata": {
        "id": "P0suS-26OQMP"
      },
      "outputs": [],
      "source": [
        "# 形状変更と演算\n",
        "mat = np.array([[1, 2], [3, 4]])\n",
        "print(mat.reshape(4))\n",
        "print(mat * 2)"
      ]
    },
    {
      "cell_type": "markdown",
      "metadata": {
        "id": "jVbeTjX3OQMP"
      },
      "source": [
        "## 🚀 応用例"
      ]
    },
    {
      "cell_type": "code",
      "execution_count": null,
      "metadata": {
        "id": "6_EcTVw9OQMP"
      },
      "outputs": [],
      "source": [
        "# 条件付き操作\n",
        "arr = np.array([1, 2, 3, 4, 5])\n",
        "print(arr[arr > 3])"
      ]
    },
    {
      "cell_type": "code",
      "execution_count": null,
      "metadata": {
        "id": "MDPkVYRpOQMP"
      },
      "outputs": [],
      "source": [
        "# 多次元配列と平均\n",
        "matrix = np.array([[1, 2], [3, 4], [5, 6]])\n",
        "print(matrix[:, 1])\n",
        "print(np.mean(matrix, axis=0))"
      ]
    },
    {
      "cell_type": "code",
      "execution_count": null,
      "metadata": {
        "id": "faunhm9OOQMQ"
      },
      "outputs": [],
      "source": [
        "# 線形代数：行列積\n",
        "a = np.array([[1, 2], [3, 4]])\n",
        "b = np.array([[2, 0], [1, 3]])\n",
        "print(np.dot(a, b))"
      ]
    },
    {
      "cell_type": "markdown",
      "metadata": {
        "id": "3fEkWK7BOQMQ"
      },
      "source": [
        "## 📝 演習問題と解説"
      ]
    },
    {
      "cell_type": "markdown",
      "metadata": {
        "id": "AzLIYBV1OQMQ"
      },
      "source": [
        "### 問題1: 要素が0の配列(長さ5)を作成せよ"
      ]
    },
    {
      "cell_type": "code",
      "execution_count": null,
      "metadata": {
        "id": "tjKVY97oOQMQ"
      },
      "outputs": [],
      "source": [
        "np.zeros(5)"
      ]
    },
    {
      "cell_type": "markdown",
      "metadata": {
        "id": "sMAWfN0IOQMQ"
      },
      "source": [
        "**解説:** `np.zeros`は指定サイズの0配列を作成する関数"
      ]
    },
    {
      "cell_type": "markdown",
      "metadata": {
        "id": "OyLGep0jOQMR"
      },
      "source": [
        "### 問題2: 1〜10の整数配列を作成せよ"
      ]
    },
    {
      "cell_type": "code",
      "execution_count": null,
      "metadata": {
        "id": "niQ6WGzaOQMR"
      },
      "outputs": [],
      "source": [
        "np.arange(1, 11)"
      ]
    },
    {
      "cell_type": "markdown",
      "metadata": {
        "id": "QCaznlsDOQMR"
      },
      "source": [
        "**解説:** `np.arange(start, stop)`で連番配列が生成される"
      ]
    },
    {
      "cell_type": "markdown",
      "metadata": {
        "id": "--35nLKGOQMR"
      },
      "source": [
        "### 問題3: 3x3の単位行列を作成せよ"
      ]
    },
    {
      "cell_type": "code",
      "execution_count": null,
      "metadata": {
        "id": "q3Z3lQ4wOQMR"
      },
      "outputs": [],
      "source": [
        "np.eye(3)"
      ]
    },
    {
      "cell_type": "markdown",
      "metadata": {
        "id": "71R14PnBOQMR"
      },
      "source": [
        "**解説:** `np.eye(n)`は単位行列（対角1）の生成"
      ]
    },
    {
      "cell_type": "markdown",
      "metadata": {
        "id": "8JpT8w7POQMR"
      },
      "source": [
        "### 問題4: 配列 `[1, 2, 3]` の平均を求めよ"
      ]
    },
    {
      "cell_type": "code",
      "execution_count": null,
      "metadata": {
        "id": "Wr4miunKOQMR"
      },
      "outputs": [],
      "source": [
        "np.mean(np.array([1, 2, 3]))"
      ]
    },
    {
      "cell_type": "markdown",
      "metadata": {
        "id": "UwisNeUgOQMR"
      },
      "source": [
        "**解説:** `np.mean`は平均値を返す"
      ]
    },
    {
      "cell_type": "markdown",
      "metadata": {
        "id": "gSDO2N4JOQMR"
      },
      "source": [
        "### 問題5: 配列を2行3列にreshapeせよ"
      ]
    },
    {
      "cell_type": "code",
      "execution_count": null,
      "metadata": {
        "id": "KK07qwK4OQMS"
      },
      "outputs": [],
      "source": [
        "np.arange(6).reshape(2, 3)"
      ]
    },
    {
      "cell_type": "markdown",
      "metadata": {
        "id": "-11gI-4kOQMS"
      },
      "source": [
        "**解説:** `reshape`で配列形状を変更可能"
      ]
    },
    {
      "cell_type": "markdown",
      "metadata": {
        "id": "Brcf4oMZOQMS"
      },
      "source": [
        "### 問題6: 配列の転置を行え"
      ]
    },
    {
      "cell_type": "code",
      "execution_count": null,
      "metadata": {
        "id": "qGOFVRE6OQMS"
      },
      "outputs": [],
      "source": [
        "np.array([[1, 2], [3, 4]]).T"
      ]
    },
    {
      "cell_type": "markdown",
      "metadata": {
        "id": "kzi8OB73OQMS"
      },
      "source": [
        "**解説:** `.T`属性で転置が可能"
      ]
    },
    {
      "cell_type": "markdown",
      "metadata": {
        "id": "B6Sln7N-OQMS"
      },
      "source": [
        "### 問題7: 要素が3より大きい値を抽出"
      ]
    },
    {
      "cell_type": "code",
      "execution_count": null,
      "metadata": {
        "id": "omsm8Q7oOQMS"
      },
      "outputs": [],
      "source": [
        "arr = np.array([1, 2, 3, 4, 5])\n",
        "arr[arr > 3]"
      ]
    },
    {
      "cell_type": "markdown",
      "metadata": {
        "id": "c5yMB4oQOQMS"
      },
      "source": [
        "**解説:** NumPyは条件抽出にブールインデックスを使える"
      ]
    },
    {
      "cell_type": "markdown",
      "metadata": {
        "id": "kCjO59i7OQMS"
      },
      "source": [
        "### 問題8: 行列積を求めよ"
      ]
    },
    {
      "cell_type": "code",
      "execution_count": null,
      "metadata": {
        "id": "7JcfE8igOQMS"
      },
      "outputs": [],
      "source": [
        "a = np.array([[1, 2], [3, 4]])\n",
        "b = np.array([[2, 0], [1, 3]])\n",
        "np.dot(a, b)"
      ]
    },
    {
      "cell_type": "markdown",
      "metadata": {
        "id": "yvHdm529OQMS"
      },
      "source": [
        "**解説:** `np.dot`で行列積（内積）を計算"
      ]
    },
    {
      "cell_type": "markdown",
      "metadata": {
        "id": "owyIgOHHOQMS"
      },
      "source": [
        "### 問題9: 標準偏差を求めよ"
      ]
    },
    {
      "cell_type": "code",
      "execution_count": null,
      "metadata": {
        "id": "7Qgv6WOSOQMS"
      },
      "outputs": [],
      "source": [
        "np.std(np.array([1, 2, 3, 4]))"
      ]
    },
    {
      "cell_type": "markdown",
      "metadata": {
        "id": "FdiVVNtVOQMS"
      },
      "source": [
        "**解説:** `np.std`は標準偏差を返す関数"
      ]
    },
    {
      "cell_type": "markdown",
      "metadata": {
        "id": "d3rJAY8JOQMT"
      },
      "source": [
        "### 問題10: 0〜1の乱数を5個生成せよ"
      ]
    },
    {
      "cell_type": "code",
      "execution_count": null,
      "metadata": {
        "id": "5Y4JCWZ6OQMT"
      },
      "outputs": [],
      "source": [
        "np.random.rand(5)"
      ]
    },
    {
      "cell_type": "markdown",
      "metadata": {
        "id": "4iLzfm80OQMT"
      },
      "source": [
        "**解説:** `np.random.rand`で指定数の一様乱数を生成"
      ]
    }
  ],
  "metadata": {
    "kernelspec": {
      "display_name": "Python 3",
      "language": "python",
      "name": "python3"
    },
    "language_info": {
      "name": "python",
      "version": "3.8"
    },
    "colab": {
      "provenance": [],
      "include_colab_link": true
    }
  },
  "nbformat": 4,
  "nbformat_minor": 0
}