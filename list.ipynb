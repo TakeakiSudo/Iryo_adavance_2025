{
  "cells": [
    {
      "cell_type": "markdown",
      "metadata": {
        "id": "view-in-github",
        "colab_type": "text"
      },
      "source": [
        "<a href=\"https://colab.research.google.com/github/TakeakiSudo/Iryo_adavance_2025/blob/main/list.ipynb\" target=\"_parent\"><img src=\"https://colab.research.google.com/assets/colab-badge.svg\" alt=\"Open In Colab\"/></a>"
      ]
    },
    {
      "cell_type": "markdown",
      "metadata": {
        "id": "R9mZchVimAfg"
      },
      "source": [
        "# 📝 概要\n",
        "Pythonの`list`は、複数の要素を順序付きで格納できる可変長のデータ構造。異なる型の要素を混在させることも可能で、多彩な操作が可能。"
      ]
    },
    {
      "cell_type": "markdown",
      "metadata": {
        "id": "2VVtypOqmAfi"
      },
      "source": [
        "## 🔰 基本的な使い方"
      ]
    },
    {
      "cell_type": "code",
      "execution_count": 1,
      "metadata": {
        "colab": {
          "base_uri": "https://localhost:8080/"
        },
        "id": "Y-zIq9MtmAfi",
        "outputId": "b6465c8d-d736-4c65-85e5-25ba6ca7d631"
      },
      "outputs": [
        {
          "output_type": "stream",
          "name": "stdout",
          "text": [
            "apple\n"
          ]
        }
      ],
      "source": [
        "# 1. リストの作成と要素へのアクセス\n",
        "fruits = [\"apple\", \"banana\", \"cherry\"]\n",
        "print(fruits[0])  # 最初の要素にアクセス → \"apple\""
      ]
    },
    {
      "cell_type": "code",
      "execution_count": 2,
      "metadata": {
        "colab": {
          "base_uri": "https://localhost:8080/"
        },
        "id": "AhWzR73LmAfi",
        "outputId": "612073bf-4b3e-4474-b85c-f575f9eaed83"
      },
      "outputs": [
        {
          "output_type": "stream",
          "name": "stdout",
          "text": [
            "['apple', 'cherry', 'orange']\n"
          ]
        }
      ],
      "source": [
        "# 2. 要素の追加・削除\n",
        "fruits.append(\"orange\")  # 要素を追加\n",
        "fruits.remove(\"banana\")  # 特定の要素を削除\n",
        "print(fruits)"
      ]
    },
    {
      "cell_type": "code",
      "execution_count": 3,
      "metadata": {
        "colab": {
          "base_uri": "https://localhost:8080/"
        },
        "id": "gt5_y8eamAfj",
        "outputId": "d8f9269f-e4f0-4c98-f170-c70347509049"
      },
      "outputs": [
        {
          "output_type": "stream",
          "name": "stdout",
          "text": [
            "[1, 2, 3]\n"
          ]
        }
      ],
      "source": [
        "# 3. スライス操作\n",
        "numbers = [0, 1, 2, 3, 4, 5]\n",
        "print(numbers[1:4])  # インデックス1〜3の要素を取り出す"
      ]
    },
    {
      "cell_type": "markdown",
      "metadata": {
        "id": "84VMHjXymAfj"
      },
      "source": [
        "## 🧰 主な操作一覧"
      ]
    },
    {
      "cell_type": "markdown",
      "metadata": {
        "id": "FJfjNO_AmAfj"
      },
      "source": [
        "| 操作             | 説明                             | 例                                     |\n",
        "|------------------|----------------------------------|----------------------------------------|\n",
        "| `append(x)`      | リストの末尾に要素を追加        | `lst.append(10)`                       |\n",
        "| `remove(x)`      | 最初に出現するxを削除            | `lst.remove(3)`                        |\n",
        "| `pop(i)`         | 指定した位置の要素を削除して返す | `lst.pop(0)`                            |\n",
        "| `sort()`         | 昇順にソート                     | `lst.sort()`                           |\n",
        "| `reverse()`      | 要素を逆順にする                 | `lst.reverse()`                        |\n",
        "| `len(lst)`       | 要素数を取得                     | `len(lst)`                             |"
      ]
    },
    {
      "cell_type": "markdown",
      "metadata": {
        "id": "nLh0hBn0mAfj"
      },
      "source": [
        "## 🚀 応用例"
      ]
    },
    {
      "cell_type": "code",
      "execution_count": 4,
      "metadata": {
        "colab": {
          "base_uri": "https://localhost:8080/"
        },
        "id": "-Mm1uKfMmAfj",
        "outputId": "28ed65f4-d991-4e3d-fcf9-bbb4203fb963"
      },
      "outputs": [
        {
          "output_type": "stream",
          "name": "stdout",
          "text": [
            "3\n"
          ]
        }
      ],
      "source": [
        "# 1. ネストされたリストのアクセス\n",
        "matrix = [[1, 2], [3, 4], [5, 6]]\n",
        "print(matrix[1][0])  # 第2行1列の要素 → 3"
      ]
    },
    {
      "cell_type": "code",
      "execution_count": 5,
      "metadata": {
        "colab": {
          "base_uri": "https://localhost:8080/"
        },
        "id": "vTgMSXblmAfj",
        "outputId": "61cafb49-7bed-4ca8-e6b6-4138611f94c4"
      },
      "outputs": [
        {
          "output_type": "stream",
          "name": "stdout",
          "text": [
            "[0, 1, 4, 9, 16]\n"
          ]
        }
      ],
      "source": [
        "# 2. リスト内包表記\n",
        "squares = [x**2 for x in range(5)]\n",
        "print(squares)"
      ]
    },
    {
      "cell_type": "code",
      "execution_count": 6,
      "metadata": {
        "colab": {
          "base_uri": "https://localhost:8080/"
        },
        "id": "b2Yi4Dh7mAfj",
        "outputId": "d7362171-e88e-4308-bf2a-80476043a022"
      },
      "outputs": [
        {
          "output_type": "stream",
          "name": "stdout",
          "text": [
            "[0, 2, 4, 6, 8]\n"
          ]
        }
      ],
      "source": [
        "# 3. 条件付きリスト内包表記\n",
        "even_numbers = [x for x in range(10) if x % 2 == 0]\n",
        "print(even_numbers)"
      ]
    },
    {
      "cell_type": "markdown",
      "metadata": {
        "id": "HGQqG4EqmAfj"
      },
      "source": [
        "## 🧪 演習問題（解答・解説つき）"
      ]
    },
    {
      "cell_type": "code",
      "execution_count": 7,
      "metadata": {
        "colab": {
          "base_uri": "https://localhost:8080/"
        },
        "id": "JagJb34YmAfk",
        "outputId": "6284ebe6-38b5-4b5c-9442-95cf92c9ced5"
      },
      "outputs": [
        {
          "output_type": "stream",
          "name": "stdout",
          "text": [
            "dog\n"
          ]
        }
      ],
      "source": [
        "# Q1\n",
        "animals = [\"cat\", \"dog\", \"fish\"]\n",
        "print(animals[1])  # → dog"
      ]
    },
    {
      "cell_type": "code",
      "execution_count": 8,
      "metadata": {
        "colab": {
          "base_uri": "https://localhost:8080/"
        },
        "id": "UiIqBKxYmAfk",
        "outputId": "75bfd1af-aade-4d47-cc63-9211ea9b0518"
      },
      "outputs": [
        {
          "output_type": "stream",
          "name": "stdout",
          "text": [
            "[1, 2, 3, 4]\n"
          ]
        }
      ],
      "source": [
        "# Q2\n",
        "lst = [1, 2, 3]\n",
        "lst.append(4)\n",
        "print(lst)"
      ]
    },
    {
      "cell_type": "code",
      "execution_count": 9,
      "metadata": {
        "colab": {
          "base_uri": "https://localhost:8080/"
        },
        "id": "2XsMEXJYmAfk",
        "outputId": "903ab74f-4e94-492b-c23d-b3a3afc5f675"
      },
      "outputs": [
        {
          "output_type": "stream",
          "name": "stdout",
          "text": [
            "[5, 7, 8]\n"
          ]
        }
      ],
      "source": [
        "# Q3\n",
        "lst = [5, 6, 7, 8]\n",
        "lst.remove(6)\n",
        "print(lst)"
      ]
    },
    {
      "cell_type": "code",
      "execution_count": 10,
      "metadata": {
        "colab": {
          "base_uri": "https://localhost:8080/"
        },
        "id": "iCrskftNmAfk",
        "outputId": "986f01b5-8e6b-4e14-c560-564fb52f1f39"
      },
      "outputs": [
        {
          "output_type": "stream",
          "name": "stdout",
          "text": [
            "[0, 1, 2, 3, 4]\n"
          ]
        }
      ],
      "source": [
        "# Q4\n",
        "lst = list(range(5))\n",
        "print(lst)"
      ]
    },
    {
      "cell_type": "code",
      "execution_count": 11,
      "metadata": {
        "colab": {
          "base_uri": "https://localhost:8080/"
        },
        "id": "mlda7yGOmAfk",
        "outputId": "6c29d115-496e-45f3-97b4-7ceee275ba5c"
      },
      "outputs": [
        {
          "output_type": "stream",
          "name": "stdout",
          "text": [
            "[8, 6, 4, 2]\n"
          ]
        }
      ],
      "source": [
        "# Q5\n",
        "lst = [2, 4, 6, 8]\n",
        "lst.reverse()\n",
        "print(lst)"
      ]
    },
    {
      "cell_type": "code",
      "execution_count": 12,
      "metadata": {
        "colab": {
          "base_uri": "https://localhost:8080/"
        },
        "id": "_fwYZv7mmAfk",
        "outputId": "df69d7a4-349c-44b0-be74-5f1a971428a6"
      },
      "outputs": [
        {
          "output_type": "stream",
          "name": "stdout",
          "text": [
            "[1, 2, 3, 4]\n"
          ]
        }
      ],
      "source": [
        "# Q6\n",
        "lst = [3, 1, 4, 2]\n",
        "lst.sort()\n",
        "print(lst)"
      ]
    },
    {
      "cell_type": "code",
      "execution_count": 13,
      "metadata": {
        "colab": {
          "base_uri": "https://localhost:8080/"
        },
        "id": "QAa2uNl8mAfk",
        "outputId": "56de1f2d-6da3-4ac3-9a90-f43cfd2e478a"
      },
      "outputs": [
        {
          "output_type": "stream",
          "name": "stdout",
          "text": [
            "[20, 40, 60]\n"
          ]
        }
      ],
      "source": [
        "# Q7\n",
        "lst = [10, 20, 30]\n",
        "new_lst = [x*2 for x in lst]\n",
        "print(new_lst)"
      ]
    },
    {
      "cell_type": "code",
      "execution_count": 14,
      "metadata": {
        "colab": {
          "base_uri": "https://localhost:8080/"
        },
        "id": "MH3krKk_mAfk",
        "outputId": "b26d6f64-d481-4266-aded-84d881c119c4"
      },
      "outputs": [
        {
          "output_type": "stream",
          "name": "stdout",
          "text": [
            "[2, 4]\n"
          ]
        }
      ],
      "source": [
        "# Q8\n",
        "lst = [1, 2, 3, 4, 5]\n",
        "evens = [x for x in lst if x % 2 == 0]\n",
        "print(evens)"
      ]
    },
    {
      "cell_type": "code",
      "execution_count": 15,
      "metadata": {
        "colab": {
          "base_uri": "https://localhost:8080/"
        },
        "id": "ohc4lDXHmAfk",
        "outputId": "d1c06371-94b3-4403-ff7b-bd7c5f164cac"
      },
      "outputs": [
        {
          "output_type": "stream",
          "name": "stdout",
          "text": [
            "3\n"
          ]
        }
      ],
      "source": [
        "# Q9\n",
        "nested = [1, [2, 3], 4]\n",
        "print(nested[1][1])"
      ]
    },
    {
      "cell_type": "code",
      "execution_count": 16,
      "metadata": {
        "colab": {
          "base_uri": "https://localhost:8080/"
        },
        "id": "igLaSJcVmAfk",
        "outputId": "935900d4-d53c-42b5-fbfe-ec6a2e3a1ec0"
      },
      "outputs": [
        {
          "output_type": "stream",
          "name": "stdout",
          "text": [
            "[1, 2, 3]\n"
          ]
        }
      ],
      "source": [
        "# Q10\n",
        "a = []\n",
        "a.extend([1, 2, 3])\n",
        "print(a)"
      ]
    },
    {
      "cell_type": "code",
      "source": [],
      "metadata": {
        "id": "v0cVxbpqmk06"
      },
      "execution_count": null,
      "outputs": []
    }
  ],
  "metadata": {
    "kernelspec": {
      "display_name": "Python 3",
      "language": "python",
      "name": "python3"
    },
    "language_info": {
      "name": "python",
      "version": "3.8"
    },
    "colab": {
      "provenance": [],
      "include_colab_link": true
    }
  },
  "nbformat": 4,
  "nbformat_minor": 0
}