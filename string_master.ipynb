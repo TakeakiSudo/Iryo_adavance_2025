{
  "cells": [
    {
      "cell_type": "markdown",
      "metadata": {
        "id": "view-in-github",
        "colab_type": "text"
      },
      "source": [
        "<a href=\"https://colab.research.google.com/github/TakeakiSudo/Iryo_adavance_2025/blob/main/string_master.ipynb\" target=\"_parent\"><img src=\"https://colab.research.google.com/assets/colab-badge.svg\" alt=\"Open In Colab\"/></a>"
      ]
    },
    {
      "cell_type": "markdown",
      "metadata": {
        "id": "l0SIr4LWWU-D"
      },
      "source": [
        "# 📝 概要\n",
        "Pythonの`str`（文字列）はテキストを扱うための基本的なデータ型。\n",
        "一重または二重引用符で囲むことで定義でき、豊富なメソッドにより文字列の加工や検索が可能。\n"
      ]
    },
    {
      "cell_type": "markdown",
      "metadata": {
        "id": "mn0NeB6RWU-E"
      },
      "source": [
        "## 🔰 基本的な使い方"
      ]
    },
    {
      "cell_type": "code",
      "execution_count": 8,
      "metadata": {
        "colab": {
          "base_uri": "https://localhost:8080/"
        },
        "id": "qu6GbwnSWU-E",
        "outputId": "ec70e540-32a9-4988-82c5-763289f73309"
      },
      "outputs": [
        {
          "output_type": "stream",
          "name": "stdout",
          "text": [
            "Hello, world!\n"
          ]
        }
      ],
      "source": [
        "# 1. 文字列の作成と出力\n",
        "greeting = \"Hello, world!\"\n",
        "print(greeting)"
      ]
    },
    {
      "cell_type": "code",
      "execution_count": 9,
      "metadata": {
        "colab": {
          "base_uri": "https://localhost:8080/"
        },
        "id": "aNU3gJFTWU-E",
        "outputId": "fe144134-80dc-47bb-b03e-6bf81725e10c"
      },
      "outputs": [
        {
          "output_type": "stream",
          "name": "stdout",
          "text": [
            "Hello Python\n",
            "HelloHelloHello\n"
          ]
        }
      ],
      "source": [
        "# 2. 結合と繰り返し\n",
        "s1 = \"Hello\"\n",
        "s2 = \"Python\"\n",
        "print(s1 + \" \" + s2)\n",
        "print(s1 * 3)"
      ]
    },
    {
      "cell_type": "code",
      "execution_count": 10,
      "metadata": {
        "colab": {
          "base_uri": "https://localhost:8080/"
        },
        "id": "mWUoYN2qWU-E",
        "outputId": "d58c2d0b-0c4f-47d6-e4a7-960841249050"
      },
      "outputs": [
        {
          "output_type": "stream",
          "name": "stdout",
          "text": [
            "P\n",
            "yth\n",
            "n\n"
          ]
        }
      ],
      "source": [
        "# 3. スライスとインデックス\n",
        "text = \"Python\"\n",
        "print(text[0])\n",
        "print(text[1:4])\n",
        "print(text[-1])"
      ]
    },
    {
      "cell_type": "markdown",
      "metadata": {
        "id": "c__kVjdOWU-E"
      },
      "source": [
        "## 🧰 よく使う操作まとめ"
      ]
    },
    {
      "cell_type": "markdown",
      "metadata": {
        "id": "_nPlvsz9WU-E"
      },
      "source": [
        "| 操作 | 構文 | 説明 |\n",
        "|------|------|------|\n",
        "| 長さ取得 | `len(s)` | 文字列の長さ |\n",
        "| 大文字化 | `s.upper()` | すべて大文字に変換 |\n",
        "| 小文字化 | `s.lower()` | すべて小文字に変換 |\n",
        "| 含まれるか | `'a' in s` | 部分文字列の存在確認 |\n",
        "| 置換 | `s.replace('a', 'b')` | 文字列の置換 |\n",
        "| 分割 | `s.split(',')` | 区切ってリスト化 |\n",
        "| 結合 | `' '.join(list)` | リストから結合 |\n",
        "| 空白除去 | `s.strip()` | 前後の空白除去 |\n",
        "| 接頭辞確認 | `s.startswith('abc')` | 指定の接頭辞か |\n",
        "| 接尾辞確認 | `s.endswith('.txt')` | 指定の接尾辞か |"
      ]
    },
    {
      "cell_type": "markdown",
      "metadata": {
        "id": "QNnSKOCuWU-E"
      },
      "source": [
        "## 🚀 応用例"
      ]
    },
    {
      "cell_type": "code",
      "execution_count": 11,
      "metadata": {
        "colab": {
          "base_uri": "https://localhost:8080/"
        },
        "id": "gYNKHx_XWU-E",
        "outputId": "067d89c1-a636-4c97-a55c-d3876353842f"
      },
      "outputs": [
        {
          "output_type": "stream",
          "name": "stdout",
          "text": [
            "Alice is 25 years old.\n"
          ]
        }
      ],
      "source": [
        "# f文字列によるフォーマット\n",
        "name = \"Alice\"\n",
        "age = 25\n",
        "print(f\"{name} is {age} years old.\")"
      ]
    },
    {
      "cell_type": "code",
      "execution_count": 12,
      "metadata": {
        "colab": {
          "base_uri": "https://localhost:8080/"
        },
        "id": "QWoMiBxRWU-F",
        "outputId": "22eef699-536f-4fa9-e983-5cbd2c1ef315"
      },
      "outputs": [
        {
          "output_type": "stream",
          "name": "stdout",
          "text": [
            "True\n"
          ]
        }
      ],
      "source": [
        "# 回文チェック\n",
        "s = \"level\"\n",
        "print(s == s[::-1])"
      ]
    },
    {
      "cell_type": "code",
      "execution_count": 13,
      "metadata": {
        "colab": {
          "base_uri": "https://localhost:8080/"
        },
        "id": "VlMVowwLWU-F",
        "outputId": "eaa6996c-0a50-48a8-8d1e-846294f663db"
      },
      "outputs": [
        {
          "output_type": "stream",
          "name": "stdout",
          "text": [
            "080-1234-5678\n"
          ]
        }
      ],
      "source": [
        "# 正規表現で電話番号抽出\n",
        "import re\n",
        "text = \"My phone number is 080-1234-5678\"\n",
        "match = re.search(r'\\d{2,4}-\\d{2,4}-\\d{4}', text)\n",
        "print(match.group())"
      ]
    },
    {
      "cell_type": "code",
      "execution_count": 14,
      "metadata": {
        "colab": {
          "base_uri": "https://localhost:8080/"
        },
        "id": "St88MqqsWU-F",
        "outputId": "4060086f-f558-4f96-9b16-132fdfe8f07c"
      },
      "outputs": [
        {
          "output_type": "stream",
          "name": "stdout",
          "text": [
            "PDFファイルです\n"
          ]
        }
      ],
      "source": [
        "# endswithの応用\n",
        "filename = \"report2024.pdf\"\n",
        "if filename.endswith(\".pdf\"):\n",
        "    print(\"PDFファイルです\")"
      ]
    },
    {
      "cell_type": "code",
      "execution_count": 15,
      "metadata": {
        "colab": {
          "base_uri": "https://localhost:8080/"
        },
        "id": "RhUfu6DSWU-F",
        "outputId": "aac04e32-901a-4761-df72-6f14852cfd8c"
      },
      "outputs": [
        {
          "output_type": "stream",
          "name": "stdout",
          "text": [
            "代表メールです\n"
          ]
        }
      ],
      "source": [
        "# startswithの応用\n",
        "email = \"info@example.com\"\n",
        "if email.startswith(\"info@\"):\n",
        "    print(\"代表メールです\")"
      ]
    },
    {
      "cell_type": "code",
      "execution_count": 16,
      "metadata": {
        "colab": {
          "base_uri": "https://localhost:8080/"
        },
        "id": "KUhoCgWcWU-F",
        "outputId": "2b47406c-a35c-47cb-e8e8-f29d9448ba97"
      },
      "outputs": [
        {
          "output_type": "stream",
          "name": "stdout",
          "text": [
            "['report.pdf', 'info.pdf']\n"
          ]
        }
      ],
      "source": [
        "# リストからPDFのみ抽出\n",
        "files = [\"data.csv\", \"report.pdf\", \"image.jpg\", \"info.pdf\"]\n",
        "pdfs = [f for f in files if f.endswith(\".pdf\")]\n",
        "print(pdfs)"
      ]
    },
    {
      "cell_type": "markdown",
      "metadata": {
        "id": "xBMGIgm-WU-F"
      },
      "source": [
        "## 🎯 演習問題（解答付き）"
      ]
    },
    {
      "cell_type": "markdown",
      "metadata": {
        "id": "XGGF8lGnWU-F"
      },
      "source": [
        "### 問題1: 'Python' の3文字目を出力せよ。"
      ]
    },
    {
      "cell_type": "code",
      "execution_count": 1,
      "metadata": {
        "colab": {
          "base_uri": "https://localhost:8080/"
        },
        "id": "DdFMq4H7WU-F",
        "outputId": "cc431242-9491-4847-a214-18052f75b37c"
      },
      "outputs": [
        {
          "output_type": "stream",
          "name": "stdout",
          "text": [
            "t\n"
          ]
        }
      ],
      "source": [
        "print(\"Python\"[2])"
      ]
    },
    {
      "cell_type": "markdown",
      "metadata": {
        "id": "VRdD1BWgWU-F"
      },
      "source": [
        "### 問題2: 'Hello' と 'World' をスペースで結合して出力せよ。"
      ]
    },
    {
      "cell_type": "code",
      "execution_count": 2,
      "metadata": {
        "colab": {
          "base_uri": "https://localhost:8080/"
        },
        "id": "Xix8lGx7WU-F",
        "outputId": "889eb09e-d8ab-4952-eab3-9d9048756485"
      },
      "outputs": [
        {
          "output_type": "stream",
          "name": "stdout",
          "text": [
            "Hello World\n"
          ]
        }
      ],
      "source": [
        "print(\"Hello\" + \" \" + \"World\")"
      ]
    },
    {
      "cell_type": "markdown",
      "metadata": {
        "id": "xULE3ze0WU-F"
      },
      "source": [
        "### 問題3: 'banana' の中に 'na' が含まれるか確認せよ。"
      ]
    },
    {
      "cell_type": "code",
      "execution_count": 3,
      "metadata": {
        "colab": {
          "base_uri": "https://localhost:8080/"
        },
        "id": "na7T37hcWU-F",
        "outputId": "71fafe10-ce73-4f0c-d279-94c9a489f486"
      },
      "outputs": [
        {
          "output_type": "stream",
          "name": "stdout",
          "text": [
            "True\n"
          ]
        }
      ],
      "source": [
        "print(\"na\" in \"banana\")"
      ]
    },
    {
      "cell_type": "markdown",
      "metadata": {
        "id": "u95Ta6F8WU-F"
      },
      "source": [
        "### 問題4: '  Hello World  ' の前後の空白と改行を除去せよ。"
      ]
    },
    {
      "cell_type": "code",
      "execution_count": 4,
      "metadata": {
        "colab": {
          "base_uri": "https://localhost:8080/"
        },
        "id": "Ffb4jISrWU-F",
        "outputId": "27009cb9-bf1d-4034-b71c-0c751fcbc676"
      },
      "outputs": [
        {
          "output_type": "stream",
          "name": "stdout",
          "text": [
            "Hello World\n"
          ]
        }
      ],
      "source": [
        "print(\"  Hello World  \".strip())"
      ]
    },
    {
      "cell_type": "markdown",
      "metadata": {
        "id": "PTRe-EsIWU-F"
      },
      "source": [
        "### 問題5: 'Python' を3回繰り返して出力せよ。"
      ]
    },
    {
      "cell_type": "code",
      "execution_count": 5,
      "metadata": {
        "colab": {
          "base_uri": "https://localhost:8080/"
        },
        "id": "kbOtG3dRWU-F",
        "outputId": "4fa750fb-2001-4563-bac4-ba4e61d1c9c1"
      },
      "outputs": [
        {
          "output_type": "stream",
          "name": "stdout",
          "text": [
            "PythonPythonPython\n"
          ]
        }
      ],
      "source": [
        "print(\"Python\" * 3)"
      ]
    },
    {
      "cell_type": "markdown",
      "metadata": {
        "id": "90-vNnfUWU-F"
      },
      "source": [
        "### 問題6: 'report.txt' が '.txt' で終わるか確認せよ。"
      ]
    },
    {
      "cell_type": "code",
      "execution_count": 6,
      "metadata": {
        "colab": {
          "base_uri": "https://localhost:8080/"
        },
        "id": "kM2bWEEmWU-F",
        "outputId": "8a50a9a1-9317-47b6-fa09-b59154d0ad33"
      },
      "outputs": [
        {
          "output_type": "stream",
          "name": "stdout",
          "text": [
            "True\n"
          ]
        }
      ],
      "source": [
        "print(\"report.txt\".endswith(\".txt\"))"
      ]
    },
    {
      "cell_type": "markdown",
      "metadata": {
        "id": "Qx0y088VWU-F"
      },
      "source": [
        "### 問題7: 'unittest_test.py' が 'unittest' で始まるか確認せよ。"
      ]
    },
    {
      "cell_type": "code",
      "execution_count": 7,
      "metadata": {
        "colab": {
          "base_uri": "https://localhost:8080/"
        },
        "id": "h12-GzOxWU-F",
        "outputId": "d79b618f-8498-4ab0-8aea-082d5acf80bc"
      },
      "outputs": [
        {
          "output_type": "stream",
          "name": "stdout",
          "text": [
            "True\n"
          ]
        }
      ],
      "source": [
        "print(\"unittest_test.py\".startswith(\"unittest\"))"
      ]
    },
    {
      "cell_type": "markdown",
      "metadata": {
        "id": "6q6JZIDiWU-F"
      },
      "source": [
        "### 問題8: 文中のメールアドレスを正規表現で抽出せよ（例: ai@example.com）。"
      ]
    },
    {
      "cell_type": "code",
      "execution_count": null,
      "metadata": {
        "id": "6R0XpZZCWU-F"
      },
      "outputs": [],
      "source": [
        "import re\n",
        "text = \"My email is ai@example.com\"\n",
        "match = re.search(r'[\\w.-]+@[\\w.-]+', text)\n",
        "print(match.group())"
      ]
    },
    {
      "cell_type": "markdown",
      "metadata": {
        "id": "FNSZRuWTWU-F"
      },
      "source": [
        "### 問題9: 'Data,Science,AI' をカンマで区切ってリストに変換せよ。"
      ]
    },
    {
      "cell_type": "code",
      "execution_count": null,
      "metadata": {
        "id": "Yd88QxCeWU-F"
      },
      "outputs": [],
      "source": [
        "print(\"Data,Science,AI\".split(\",\"))"
      ]
    },
    {
      "cell_type": "markdown",
      "metadata": {
        "id": "k07PD-ouWU-G"
      },
      "source": [
        "### 問題10: ['a.txt', 'b.csv', 'c.txt', 'd.md'] から .txt ファイルのみを抽出せよ。"
      ]
    },
    {
      "cell_type": "code",
      "execution_count": null,
      "metadata": {
        "id": "5KQ9EdzcWU-G"
      },
      "outputs": [],
      "source": [
        "files = ['a.txt', 'b.csv', 'c.txt', 'd.md']\n",
        "print([f for f in files if f.endswith('.txt')])"
      ]
    }
  ],
  "metadata": {
    "kernelspec": {
      "display_name": "Python 3",
      "language": "python",
      "name": "python3"
    },
    "language_info": {
      "name": "python",
      "version": "3.8"
    },
    "colab": {
      "provenance": [],
      "include_colab_link": true
    }
  },
  "nbformat": 4,
  "nbformat_minor": 0
}